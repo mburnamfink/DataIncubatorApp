{
 "cells": [
  {
   "cell_type": "code",
   "execution_count": 1,
   "metadata": {
    "collapsed": true
   },
   "outputs": [
    {
     "data": {
      "text/plain": [
       "'C:\\\\Users\\\\Michael\\\\PycharmProjects\\\\DataIncubator\\\\demo'"
      ]
     },
     "execution_count": 1,
     "metadata": {},
     "output_type": "execute_result"
    }
   ],
   "source": [
    "import os\n",
    "import metaknowledge as mk\n",
    "import networkx as nx\n",
    "import pandas as pd\n",
    "import csv\n",
    "import math\n",
    "import numpy as np\n",
    "import statistics as stat\n",
    "import matplotlib\n",
    "from matplotlib.colors import LinearSegmentedColormap\n",
    "from matplotlib.colors import rgb2hex\n",
    "import gender_guesser.detector as gender\n",
    "import plotly as py\n",
    "from plotly.graph_objs import *\n",
    "import numpy as np\n",
    "\n",
    "os.chdir(\"C:/Users/Michael/PycharmProjects/DataIncubator/demo\")\n",
    "os.getcwd()"
   ]
  },
  {
   "cell_type": "code",
   "execution_count": 2,
   "metadata": {},
   "outputs": [
    {
     "name": "stdout",
     "output_type": "stream",
     "text": [
      "data loaded\n"
     ]
    }
   ],
   "source": [
    "#this notebook will take some the following files and generate a Plot.ly graph\n",
    "\n",
    "#    bioactive.txt : Web of Science (WoS) Record Collection, the data for one group\n",
    "#    CosCiting.csv : WoS subject categories distance matrix. from Rafols, Porter, Leydesdorff 2010\n",
    "#    DisciplinesList3.csv : WoS subject categories by 6 factors from Radols, Porter, Leydesdorff\n",
    "#    WoS History Nov 2017 : As of last fall, every journal index by WoS and its category\n",
    "#    tags.csv : Tags file for bioactive network\n",
    "\n",
    "Cosciting = pd.read_csv('CosCiting.csv', sep=',', header=0, index_col=0)\n",
    "DisList = pd.read_csv('DisciplinesList3.csv', sep=',',header=0, index_col='Discipline')\n",
    "JournalCats = pd.read_excel('WoS History Nov 2017.xlsx', header=0)\n",
    "JournalCats.set_index('20 Char', inplace=True)\n",
    "tags = pd.read_csv('Tags.csv', header=0, index_col='Name')\n",
    "RC = mk.RecordCollection(\"bioactive.txt\")\n",
    "\n",
    "print(\"data loaded\")"
   ]
  },
  {
   "cell_type": "code",
   "execution_count": 4,
   "metadata": {},
   "outputs": [
    {
     "name": "stdout",
     "output_type": "stream",
     "text": [
      "networks constructed\n"
     ]
    }
   ],
   "source": [
    "G = nx.Graph()\n",
    "authors ={}\n",
    "\n",
    "for R in RC:\n",
    "    for author1 in R['AF']:\n",
    "        if author1 not in G.nodes() :\n",
    "            G.add_node(author1, Papers = 1)\n",
    "        else :\n",
    "            G.nodes[author1]['Papers'] += 1\n",
    "        authors[author1] = []\n",
    "\n",
    "for R in RC:\n",
    "    for author in R['AF']:\n",
    "        try:\n",
    "            authors[author]=authors[author]+R['WC']\n",
    "        except:\n",
    "            KeyError\n",
    "\n",
    "for R in RC:\n",
    "    for author1 in R['AF'] :\n",
    "        for author2 in R['AF']:\n",
    "            if author1 != author2 :\n",
    "                if (author1, author2) not in G.edges():\n",
    "                    G.add_edge(author1, author2, Weight = 0.5)\n",
    "                else :\n",
    "                    G.edges[author1, author2]['Weight'] += 0.5\n",
    "\n",
    "print(\"networks constructed\")"
   ]
  },
  {
   "cell_type": "code",
   "execution_count": 5,
   "metadata": {},
   "outputs": [
    {
     "name": "stdout",
     "output_type": "stream",
     "text": [
      "discipline lines created\n"
     ]
    }
   ],
   "source": [
    "#this should convert authors into a dictionary of subject categories with counts\n",
    "for auth in authors :\n",
    "    line = authors[auth]\n",
    "    dic = {}\n",
    "    for item in line :\n",
    "        if item.upper() in dic :\n",
    "            dic[item.upper()] = dic[item.upper()] + 1\n",
    "        else :\n",
    "            dic[item.upper()] = 1\n",
    "    authors[auth] = dic\n",
    "\n",
    "print(\"discipline lines created\")"
   ]
  },
  {
   "cell_type": "code",
   "execution_count": null,
   "metadata": {},
   "outputs": [],
   "source": [
    "#okay, let's calculate the Gini coefficient and Rao-Stirling Index\n",
    "for auth in authors :\n",
    "    sample = authors[auth] #authors[auth] is the numbered dictionary of WoS categories an author has contributed to\n",
    "    total = 0\n",
    "    for sc in sample :\n",
    "        total = total + sample[sc]\n",
    "    gini = 0\n",
    "    for a in sample :\n",
    "        for b in sample :\n",
    "            if a != b :\n",
    "                gini = gini + (sample[a]/total)*(sample[b]/total)\n",
    "    G.nodes[auth]['Gini'] = gini\n",
    "\n"
   ]
  },
  {
   "cell_type": "code",
   "execution_count": 21,
   "metadata": {},
   "outputs": [
    {
     "name": "stdout",
     "output_type": "stream",
     "text": [
      "Rao-Stirling index calculated\n"
     ]
    }
   ],
   "source": [
    "for auth in authors :\n",
    "    sample  = authors[auth].copy()\n",
    "    samplelist = list(sample)\n",
    "    total = 0\n",
    "    for sc in sample :\n",
    "        total = total + sample[sc]\n",
    "    SDI = 0\n",
    "    i = 0\n",
    "    j = 1\n",
    "    while i < len(samplelist) :\n",
    "        j = i + 1\n",
    "        while j < len(samplelist) :\n",
    "            WCi = samplelist[i]\n",
    "            WCj = samplelist[j]\n",
    "            try :\n",
    "                invdistance = float(Cosciting.loc[WCi.upper(),WCj.upper()])\n",
    "            except KeyError :\n",
    "                invdistance = 1\n",
    "            SDI = SDI + (1 - invdistance)*(sample[WCi]/total)*(sample[WCj]/total)\n",
    "            j =j +1\n",
    "        i =i + 1\n",
    "    G.nodes[auth]['Rao-Stirling']= SDI\n",
    "    \n",
    "print(\"Rao-Stirling index calculated\")\n"
   ]
  },
  {
   "cell_type": "code",
   "execution_count": 22,
   "metadata": {},
   "outputs": [
    {
     "name": "stdout",
     "output_type": "stream",
     "text": [
      "authors associated with disciplines\n"
     ]
    }
   ],
   "source": [
    "#assign most common discipline to authors\n",
    "\n",
    "for auth in authors:\n",
    "    sample  = authors[auth].copy()\n",
    "    try:\n",
    "        discipline = max(sample, key=sample.get)\n",
    "    except :\n",
    "        discipline ='ERROR'\n",
    "    G.nodes[auth]['Discipline'] = discipline\n",
    "\n",
    "print (\"authors associated with disciplines\")"
   ]
  },
  {
   "cell_type": "code",
   "execution_count": 23,
   "metadata": {},
   "outputs": [
    {
     "name": "stdout",
     "output_type": "stream",
     "text": [
      "colors generated for each discipline\n"
     ]
    }
   ],
   "source": [
    "#this assigns each Discipline a distinct color by the six primary and secondary colors\n",
    "#lightness is along the factor identified by Rafols, Porter, Leydesdorff 2010\n",
    "DisList = pd.read_csv('DisciplinesList4.csv', sep=',',header=0, index_col='Discipline')\n",
    "\n",
    "Fields = {'physical sciences':[], 'social sciences':[], 'computer sciences':[], 'field sciences':[],'life sciences':[], 'behavioral sciences':[]}\n",
    "for row in DisList.itertuples():\n",
    "    item = row[0]\n",
    "    try:\n",
    "        Field = DisList.at[item.upper(), 'Field']\n",
    "        Fields[Field] = Fields[Field]+[(item,1)]\n",
    "    except :\n",
    "        pass\n",
    "###OLD Colors\n",
    "#LifeSciencesColors = LinearSegmentedColormap.from_list('natural', ['#7ca5ff','#0f2656'], N=100)\n",
    "#PhysicalSciencesColors = LinearSegmentedColormap.from_list('natural', ['#edb568','#911414'], N=100)\n",
    "#FieldColors = LinearSegmentedColormap.from_list('life', ['#87db91','#004908'], N=100)\n",
    "#BehavioralColors = LinearSegmentedColormap.from_list('social', ['#d293ff','#421166'], N=100)\n",
    "#SocialSciencesColors = LinearSegmentedColormap.from_list('social', ['#f959f9','#7c153e'], N=100)\n",
    "#CSColors = LinearSegmentedColormap.from_list('engineering', ['#ffe856','#4f4400'], N=100)\n",
    "\n",
    "LifeSciencesColors = LinearSegmentedColormap.from_list('life', ['#90d7fe','#010b6b'], N=100)\n",
    "PhysicalSciencesColors = LinearSegmentedColormap.from_list('physics', ['#ffc675','#7a3700'], N=100)\n",
    "FieldColors = LinearSegmentedColormap.from_list('field', ['#94ff70','#004908'], N=100)\n",
    "BehavioralColors = LinearSegmentedColormap.from_list('behave', ['#fea4fa','#57135e'], N=100)\n",
    "SocialSciencesColors = LinearSegmentedColormap.from_list('social', ['#ff817a','#741128'], N=100)\n",
    "CSColors = LinearSegmentedColormap.from_list('engineering', ['#ebe77f','#7a7000'], N=100)\n",
    "\n",
    "for field in Fields :\n",
    "    if field == 'life sciences' :\n",
    "        cm = LifeSciencesColors\n",
    "    if field == 'physical sciences' :\n",
    "        cm = PhysicalSciencesColors\n",
    "    if field == 'field sciences' :\n",
    "        cm = FieldColors\n",
    "    if field == 'behavioral sciences' :\n",
    "        cm = BehavioralColors\n",
    "    if field == 'social sciences' :\n",
    "        cm = SocialSciencesColors\n",
    "    if field == 'computer sciences' :\n",
    "        cm = CSColors\n",
    "    i =0\n",
    "    while i < len(Fields[field]):\n",
    "        val = i/len(Fields[field])+.001\n",
    "        color = rgb2hex(cm(val))\n",
    "        Fields[field][i] = (Fields[field][i][0],Fields[field][i][1],field,color)\n",
    "        i = i + 1\n",
    "\n",
    "ColorList = []\n",
    "for field in Fields:\n",
    "    for item in Fields[field]:\n",
    "        ColorList = ColorList +[item]\n",
    "\n",
    "NewColors = pd.DataFrame.from_records(ColorList, columns = ['Discipline','Count','Field','Color'], index='Discipline')\n",
    "\n",
    "for node in G.nodes():\n",
    "    try:\n",
    "        disc = G.nodes[node]['Discipline']\n",
    "        color = NewColors.at[disc,'Color']\n",
    "        G.nodes[node]['DisColor'] = color\n",
    "    except :\n",
    "        G.nodes[node]['DisColor'] = '#444'\n",
    "        \n",
    "print(\"colors generated for each discipline\")"
   ]
  },
  {
   "cell_type": "code",
   "execution_count": 24,
   "metadata": {},
   "outputs": [
    {
     "name": "stdout",
     "output_type": "stream",
     "text": [
      "Rao-Stirling distance calculated for edges\n"
     ]
    }
   ],
   "source": [
    "#and one more module to calculate Rao-Stirling Scores for Edges\n",
    "for edge in G.edges():\n",
    "    a = edge[0]\n",
    "    b = edge[1]\n",
    "    try:\n",
    "        invdistance = float(Cosciting.loc[G.nodes[a]['Discipline'].upper(),G.nodes[b]['Discipline'].upper()])\n",
    "    except KeyError:\n",
    "        invdistance = 1\n",
    "    SDI = 1 - invdistance\n",
    "    G.edges[edge]['Rao-Stirling-Connection'] = SDI\n",
    "\n",
    "print(\"Rao-Stirling distance calculated for edges\")"
   ]
  },
  {
   "cell_type": "code",
   "execution_count": 25,
   "metadata": {},
   "outputs": [
    {
     "name": "stdout",
     "output_type": "stream",
     "text": [
      "Group members identified, network updated\n"
     ]
    }
   ],
   "source": [
    "#create the Core network of people in the research group, and calculate Betweenness Centrality\n",
    "\n",
    "for node in G.nodes():\n",
    "    G.node[node]['Sample'] = 0\n",
    "\n",
    "for row in tags.itertuples():\n",
    "    try:\n",
    "        G.nodes[row[0]]['Sample']=row[1]\n",
    "        G.nodes[row[0]]['Status']=row[2]\n",
    "    except:\n",
    "        pass\n",
    "\n",
    "subnodes = []\n",
    "for node in G.nodes():\n",
    "    if G.nodes[node]['Sample']== 1:\n",
    "        subnodes.append(node)\n",
    "\n",
    "Core = nx.subgraph(G, subnodes)\n",
    "BtwCore = nx.betweenness_centrality(Core)\n",
    "\n",
    "for name in BtwCore:\n",
    "    G.nodes[name]['BtwCore'] =BtwCore[name]\n",
    "    Core.nodes[name]['BtwCore'] =BtwCore[name]\n",
    "\n",
    "for edge in G.edges():\n",
    "    type = G.nodes[edge[0]]['Sample']+G.nodes[edge[1]]['Sample']\n",
    "    G.edges[edge]['Type'] = type\n",
    "\n",
    "print(\"Group members identified, network updated\")"
   ]
  },
  {
   "cell_type": "code",
   "execution_count": 26,
   "metadata": {},
   "outputs": [
    {
     "name": "stdout",
     "output_type": "stream",
     "text": [
      "Miller, Anne-Frances BIOCHEMISTRY & MOLECULAR BIOLOGY #8cd1fa 0.2504090909090909\nPitsawong, Warintra BIOCHEMISTRY & MOLECULAR BIOLOGY #8cd1fa 0.036086419753086414\nHaynes, Chad A. BIOCHEMISTRY & MOLECULAR BIOLOGY #8cd1fa 0.036086419753086414\nKoder, Ronald, Jr. BIOCHEMISTRY & MOLECULAR BIOLOGY #8cd1fa 0.036086419753086414\nRodgers, David W. BIOCHEMISTRY & MOLECULAR BIOLOGY #8cd1fa 0.2205066666666667\nWattamwar, Paritosh P. ENGINEERING, BIOMEDICAL #395ba5 0.21403999999999998\nBiswal, Dipti POLYMER SCIENCE #d59950 0.24811555555555556\nCochran, David B. ENGINEERING, BIOMEDICAL #395ba5 0.10016326530612243\nLyvers, Adam C. ENGINEERING, BIOMEDICAL #395ba5 0.0325\nEitel, Richard E. MATERIALS SCIENCE, CERAMICS #e7ac60 0.240944\nAnderson, Kimberly W. MATERIALS SCIENCE, BIOMATERIALS #aa6b2b 0.2802234819853867\nHilt, J. Zach MATERIALS SCIENCE, BIOMATERIALS #aa6b2b 0.2682512894267013\nDziubla, Thomas D. MATERIALS SCIENCE, BIOMATERIALS #aa6b2b 0.2786627906976746\nFisher, Paul D. ENGINEERING, BIOMEDICAL #395ba5 0.18844628099173555\nClemens, Justin ENGINEERING, BIOMEDICAL #395ba5 0.0325\nPuleo, David A. MATERIALS SCIENCE, BIOMATERIALS #aa6b2b 0.2704996301775151\nRankin, Stephen E. CHEMISTRY, PHYSICAL #f8bf6f 0.14102658163265328\nXing, Rong CHEMISTRY, PHYSICAL #f8bf6f 0.07226627218934911\nKnutson, Barbara L. CHEMISTRY, PHYSICAL #f8bf6f 0.1884101533966399\nLehmler, Hans-Joachim CHEMISTRY, PHYSICAL #f8bf6f 0.21463277447268797\nAkenhead, Michael L. BIOPHYSICS #86c9f4 0.26204938271604933\nShin, Hainsworth Y. CELL BIOLOGY #8acff8 0.2342132\nLilly, Jacob L. CHEMISTRY, MULTIDISCIPLINARY #f2b869 0.21939795918367347\nSheldon, Phillip R. MULTIDISCIPLINARY SCIENCES #87cbf5 0\nHoversten, Liv J. MULTIDISCIPLINARY SCIENCES #87cbf5 0\nRomero, Gabriela MULTIDISCIPLINARY SCIENCES #87cbf5 0.2674166666666667\nBalasubramaniam, Vivek NANOSCIENCE & NANOTECHNOLOGY #fcc373 0.21553061224489797\nBerron, Brad J. CHEMISTRY, MULTIDISCIPLINARY #f2b869 0.2252283737024221\nSatarkar, Nitin S. CHEMISTRY, MULTIDISCIPLINARY #f2b869 0.25047448015122875\nZhang, Wenli MATERIALS SCIENCE, CERAMICS #e7ac60 0.19568750000000004\nTharappel, Job C. SURGERY #0d1b77 0\nRamineni, Sandeep K. SURGERY #0d1b77 0.30109876543209885\nReynolds, Drew SURGERY #0d1b77 0\nRoth, John S. SURGERY #0d1b77 0\nMansour, Heidi M. PHARMACOLOGY & PHARMACY #7ab8e8 0.32309685950413203\nZhang, Long CHEMISTRY, PHYSICAL #f8bf6f 0.0876875\nZhan, Xiaowen CHEMISTRY, PHYSICAL #f8bf6f 0.0876875\nCheng, Y-T. CHEMISTRY, PHYSICAL #f8bf6f 0.09079250000000003\nShirpour, Mona CHEMISTRY, PHYSICAL #f8bf6f 0.0876875\nRen, Weijia EDUCATION & EDUCATIONAL RESEARCH #641f6b 0.2225\nBradley, Kelly D. EDUCATION, SCIENTIFIC DISCIPLINES #5a1661 0.2891875\nLumpp, Janet K. EDUCATION, SCIENTIFIC DISCIPLINES #5a1661 0.3681487603305785\nAmbati, Jyothirmai CHEMISTRY, PHYSICAL #f8bf6f 0.1463359375\nAubrey-Medendorp, Clare CHEMISTRY, MULTIDISCIPLINARY #f2b869 0.17558333333333334\nParkin, Sean CHEMISTRY, MULTIDISCIPLINARY #f2b869 0.19773257023933408\nLi, Tonglei CHEMISTRY, MULTIDISCIPLINARY #f2b869 0.22595745817016732\nPark, Chun-Woong PHARMACOLOGY & PHARMACY #7ab8e8 0\nOh, Tack-Oon PHARMACOLOGY & PHARMACY #7ab8e8 0\nKim, Ju-Young PHARMACOLOGY & PHARMACY #7ab8e8 0\nHa, Jung-Myung CELL BIOLOGY #8acff8 0.11569444444444443\nLee, Beom-Jin PHARMACOLOGY & PHARMACY #7ab8e8 0\nChi, Sang-Cheol PHARMACOLOGY & PHARMACY #7ab8e8 0\nRhee, Yun-Seok PHARMACOLOGY & PHARMACY #7ab8e8 0.2150204081632653\nPark, Eun-Seok PHARMACOLOGY & PHARMACY #7ab8e8 0\nLuo, Jin MATERIALS SCIENCE, CERAMICS #e7ac60 0.22732812500000005\nDavenport, Douglas M. POLYMER SCIENCE #d59950 0.13324999999999998\nGui, Minghui POLYMER SCIENCE #d59950 0.218921875\nOrmsbee, Lindell R. ENGINEERING, CHEMICAL #cf924a 0.1857100591715977\nBhattacharyya, Dibakar ENGINEERING, CHEMICAL #cf924a 0.21678719008264463\nJujjuri, Satyakrishna CHEMISTRY, MULTIDISCIPLINARY #f2b869 0\nThakur, Anup CHEMISTRY, MULTIDISCIPLINARY #f2b869 0\nLynn, Bert C. BIOTECHNOLOGY & APPLIED MICROBIOLOGY #79b6e6 0.16866666666666666\nDittert, Ester CHEMISTRY, MULTIDISCIPLINARY #f2b869 0\nNokes, Sue E. BIOTECHNOLOGY & APPLIED MICROBIOLOGY #79b6e6 0.24683333333333335\nStrobel, Herbert J. CHEMISTRY, MULTIDISCIPLINARY #f2b869 0.19144444444444442\nZhao, Rongsheng MEDICINE, RESEARCH & EXPERIMENTAL #90d7fe 0.08024999999999999\nHollis, Christin P. PHARMACOLOGY & PHARMACY #7ab8e8 0.1780408163265306\nZhang, Hua PHARMACOLOGY & PHARMACY #7ab8e8 0.07133333333333332\nSun, Lili MEDICINE, RESEARCH & EXPERIMENTAL #90d7fe 0.08024999999999999\nGemeinhart, Richard A. PHARMACOLOGY & PHARMACY #7ab8e8 0.19325\nChirra, Hariharasudhan D. ENGINEERING, BIOMEDICAL #395ba5 0.18641322314049588\nSexton, Travis ENGINEERING, BIOMEDICAL #395ba5 0.15288888888888885\nHersh, Louis B. MULTIDISCIPLINARY SCIENCES #87cbf5 0.2553203125\nXiao, Li ENGINEERING, CHEMICAL #cf924a 0.16499999999999998\nSong, Eun Suk MULTIDISCIPLINARY SCIENCES #87cbf5 0.029591836734693882\nJang, Hyein MULTIDISCIPLINARY SCIENCES #87cbf5 0\nGuo, Hou-Fu MULTIDISCIPLINARY SCIENCES #87cbf5 0\nJuliano, Maria A. MULTIDISCIPLINARY SCIENCES #87cbf5 0\nJuliano, Luiz MULTIDISCIPLINARY SCIENCES #87cbf5 0\nMorris, Andrew J. MULTIDISCIPLINARY SCIENCES #87cbf5 0.23276000000000002\nGalperin, Emilia MULTIDISCIPLINARY SCIENCES #87cbf5 0\nNednoor, Pramod CHEMISTRY, PHYSICAL #f8bf6f 0.027999999999999997\nGavalas, Vasilis G. CHEMISTRY, ANALYTICAL #a86828 0.2440588235294118\nChopra, Nitin MATERIALS SCIENCE, MULTIDISCIPLINARY #ffc675 0.18115972222222224\nHinds, Bruce J. MATERIALS SCIENCE, MULTIDISCIPLINARY #ffc675 0.15589154064272215\nBachas, Leonidas G. CHEMISTRY, MULTIDISCIPLINARY #f2b869 0.2805775034293552\nHawkins, Ashley M. ENGINEERING, BIOMEDICAL #395ba5 0.25528472222222215\nBottom, Chelsie E. ENGINEERING, BIOMEDICAL #395ba5 0.16188888888888886\nLiang, Zhi ENGINEERING, BIOMEDICAL #395ba5 0.16188888888888886\nGeddes, James W. NEUROSCIENCES #4c76b8 0.231211168781238\nBondada, Vimala NEUROSCIENCES #4c76b8 0.2586767485822306\nSands, Madison CRITICAL CARE MEDICINE #32519d 0.18844444444444441\nPistilli, Christina CRITICAL CARE MEDICINE #32519d 0.18844444444444441\nDayaram, Kavi CRITICAL CARE MEDICINE #32519d 0.18844444444444441\nYu, Chen-Guang NEUROSCIENCES #4c76b8 0.22834251606978884\nSchlipf, Daniel M. MATERIALS SCIENCE, MULTIDISCIPLINARY #ffc675 0.07764583333333333\nWu, Ji CHEMISTRY, MULTIDISCIPLINARY #f2b869 0.16156444444444443\nZhan, Xin MATERIALS SCIENCE, MULTIDISCIPLINARY #ffc675 0.11139111111111114\nWu, Xiao NANOSCIENCE & NANOTECHNOLOGY #fcc373 0.24198\nZhang, Weifen NANOSCIENCE & NANOTECHNOLOGY #fcc373 0.22631249999999997\nHayes, Don, Jr. PHARMACOLOGY & PHARMACY #7ab8e8 0.29977914951989015\nBorgohain, Rituraj CHEMISTRY, PHYSICAL #f8bf6f 0.10610204081632653\nLi, Juchuan MATERIALS SCIENCE, MULTIDISCIPLINARY #ffc675 0.13259\nSelegue, John P. CHEMISTRY, PHYSICAL #f8bf6f 0.10610204081632653\nBothun, Geoffrey D. CHEMISTRY, PHYSICAL #f8bf6f 0\nStocke, Nathanael A. PHARMACOLOGY & PHARMACY #7ab8e8 0.24578125000000003\nSethi, Pallavi ENGINEERING, BIOMEDICAL #395ba5 0.2224375\nJyoti, Amar ENGINEERING, BIOMEDICAL #395ba5 0.26402777777777775\nChan, Ryan ENGINEERING, BIOMEDICAL #395ba5 0.0325\nArnold, Susanne M. PHARMACOLOGY & PHARMACY #7ab8e8 0.17099999999999999\nUpreti, Meenakshi ENGINEERING, BIOMEDICAL #395ba5 0.26402777777777775\nDaily, Abigail ONCOLOGY #5887c4 0.14825\nLiu, Shuqian ONCOLOGY #5887c4 0.14825\nBae, Younsoo PHARMACOLOGY & PHARMACY #7ab8e8 0.24022642733564029\nBhatnagar, Saloni ONCOLOGY #5887c4 0.14825\nMoscow, Jeffrey A. ONCOLOGY #5887c4 0.1979375\nSmuleac, Vasile CHEMISTRY, MULTIDISCIPLINARY #f2b869 0.08993388429752065\nVarma, Rajender CHEMISTRY, MULTIDISCIPLINARY #f2b869 0.0\nBaruwati, Babita CHEMISTRY, MULTIDISCIPLINARY #f2b869 0.0\nSikdar, Subhas CHEMISTRY, MULTIDISCIPLINARY #f2b869 0.0\nTyagi, Pawan CHEMISTRY, MULTIDISCIPLINARY #f2b869 0.1510408163265306\nHolmes, Stephen M. CHEMISTRY, MULTIDISCIPLINARY #f2b869 0\nJennings, Cheryl L. MATERIALS SCIENCE, BIOMATERIALS #aa6b2b 0.20576\nPerry, Ellis K. MATERIALS SCIENCE, BIOMATERIALS #aa6b2b 0.13974999999999999\nUnderwood, Ryan Matthew CELL BIOLOGY #8acff8 0.08272222222222221\nFannon, Michael W. CELL & TISSUE ENGINEERING #83c4f1 0.09833333333333333\nChen, Zhiqiang NANOSCIENCE & NANOTECHNOLOGY #fcc373 0.11251446280991734\nSun, Xinghua NANOSCIENCE & NANOTECHNOLOGY #fcc373 0.12660185185185185\nSapper, Harrison ENGINEERING, BIOMEDICAL #395ba5 0.16188888888888886\nClark, Amanda ENGINEERING, BIOMEDICAL #395ba5 0.10310204081632651\nMilbrandt, Todd A. ENGINEERING, BIOMEDICAL #395ba5 0.20746691871455572\nVenkatachalam, Karthik CHEMISTRY, MULTIDISCIPLINARY #f2b869 0.20631249999999998\nArzuaga, Xabier ENGINEERING, ENVIRONMENTAL #6fd156 0.02300000000000002\nXu, Jian CHEMISTRY, MULTIDISCIPLINARY #f2b869 0.20268750000000005\nHennig, Bernhard ENVIRONMENTAL SCIENCES #90f96d 0.14088\nNaga, Kranthi Kumari NEUROSCIENCES #4c76b8 0.17200000000000001\nSu, Xin MATERIALS SCIENCE, MULTIDISCIPLINARY #ffc675 0.061044982698961935\nParthasarathy, Rajni OPHTHALMOLOGY #12247d 0\nChow, K. Martin OPHTHALMOLOGY #12247d 0.29238888888888886\nDerafshi, Zahra OPHTHALMOLOGY #12247d 0\nFautsch, Michael P. OPHTHALMOLOGY #12247d 0\nHetling, John R. OPHTHALMOLOGY #12247d 0\nPepperberg, David R. OPHTHALMOLOGY #12247d 0\nHoward, Melissa D. PHARMACOLOGY & PHARMACY #7ab8e8 0.24816639999999995\nHood, Elizabeth D. PHARMACOLOGY & PHARMACY #7ab8e8 0.17169444444444443\nZern, Blaine PHARMACOLOGY & PHARMACY #7ab8e8 0.08249999999999999\nShuvaev, Vladimir V. PHARMACOLOGY & PHARMACY #7ab8e8 0.08249999999999999\nGrosser, Tilo PHARMACOLOGY & PHARMACY #7ab8e8 0.08249999999999999\nMuzykantov, Vladimir R. PHARMACOLOGY & PHARMACY #7ab8e8 0.20159183673469383\nFourie, Elani CHEMISTRY, MULTIDISCIPLINARY #f2b869 0\nNewsome, Bradley J. ENVIRONMENTAL SCIENCES #90f96d 0.1853333333333333\nOrellana, Bryan R. MATERIALS SCIENCE, BIOMATERIALS #aa6b2b 0.031200000000000002\nXu, Weijie BIOCHEMISTRY & MOLECULAR BIOLOGY #8cd1fa 0.25266666666666665\nGhosh, Kaustav CHEMISTRY, PHYSICAL #f8bf6f 0.07777551020408163\nBashadi, Sarah CHEMISTRY, APPLIED #b97b38 0.1148125\nZhang, Shu-Xin BIOCHEMICAL RESEARCH METHODS #6ca3d9 0.1925\nHolmberg, Eric G. BIOCHEMICAL RESEARCH METHODS #6ca3d9 0.1925\nAndrews, Rodney MATERIALS SCIENCE, MULTIDISCIPLINARY #ffc675 0.1991224489795918\nJacques, David ENGINEERING, CHEMICAL #cf924a 0.2212222222222222\nSundararaj, Sharath Kumar C. ENGINEERING, BIOMEDICAL #395ba5 0.14427083333333332\nThomas, Mark V. ENGINEERING, BIOMEDICAL #395ba5 0.09817283950617284\nPeyyala, Rebecca PHARMACOLOGY & PHARMACY #7ab8e8 0.28503125000000007\nWan, Hongyi ENGINEERING, CHEMICAL #cf924a 0.169625\nBriot, Nicolas J. ENGINEERING, CHEMICAL #cf924a 0.13324999999999998\nSaad, Anthony ENGINEERING, CHEMICAL #cf924a 0.13324999999999998\nReichel, Derek A. PHARMACOLOGY & PHARMACY #7ab8e8 0.1673541666666667\nLong, Sihui CRYSTALLOGRAPHY #d89c53 0.11878643664485426\nSiegler, Maxime A. CRYSTALLOGRAPHY #d89c53 0.0855\nSullivan, Patrick G. NEUROSCIENCES #4c76b8 0.21279012345679013\nHernandez, Sebastian CHEMISTRY, MULTIDISCIPLINARY #f2b869 0.0816\nPorter, Cassandra CHEMISTRY, MULTIDISCIPLINARY #f2b869 0\nZhang, Xinyi CHEMISTRY, MULTIDISCIPLINARY #f2b869 0\nWei, Yinan CHEMISTRY, MULTIDISCIPLINARY #f2b869 0.16576\nWu, Qingliu MATERIALS SCIENCE, MULTIDISCIPLINARY #ffc675 0.0820175\nSubramanian, Navaladian MATERIALS SCIENCE, MULTIDISCIPLINARY #ffc675 0.07110000000000001\nStrzalka, Joseph MATERIALS SCIENCE, MULTIDISCIPLINARY #ffc675 0.07120408163265306\nJiang, Zhang MATERIALS SCIENCE, MULTIDISCIPLINARY #ffc675 0.05775510204081632\nMeenach, Samantha A. PHARMACOLOGY & PHARMACY #7ab8e8 0.27398476454293635\nTsoras, Alexandra N. ONCOLOGY #5887c4 0\nMcGarry, Ronald C. PHARMACOLOGY & PHARMACY #7ab8e8 0.26002469135802464\nXu, Zhen ENGINEERING, CHEMICAL #cf924a 0.2212222222222222\nHickey, Anthony J. ENGINEERING, CHEMICAL #cf924a 0.2212222222222222\nKataoka, Kazunori PHARMACOLOGY & PHARMACY #7ab8e8 0.16066666666666668\nAyers, Paul W. CHEMISTRY, PHYSICAL #f8bf6f 0.08912000000000003\nLiu, Shubin CHEMISTRY, PHYSICAL #f8bf6f 0.08912000000000003\nSwadley, Matthew J. CHEMISTRY, MULTIDISCIPLINARY #f2b869 0.21072222222222226\nTang, Shuo CHEMISTRY, MULTIDISCIPLINARY #f2b869 0.0595\nFloy, Martha CHEMISTRY, MULTIDISCIPLINARY #f2b869 0\nBhandari, Rohit MATERIALS SCIENCE, BIOMATERIALS #aa6b2b 0.17200000000000004\nSunkara, Manjula CHEMISTRY, MULTIDISCIPLINARY #f2b869 0.22962500000000002\nZhou, Shanshan MATERIALS SCIENCE, MULTIDISCIPLINARY #ffc675 0.13115625000000003\nLi, Hsin-Fen BIOTECHNOLOGY & APPLIED MICROBIOLOGY #79b6e6 0\nGarlapalli, Ravinder K. CHEMISTRY, PHYSICAL #f8bf6f 0.13245679012345676\nFlythe, Michael D. BIOTECHNOLOGY & APPLIED MICROBIOLOGY #79b6e6 0\nLee, Min Jae PHARMACOLOGY & PHARMACY #7ab8e8 0\nLee, Wooin PHARMACOLOGY & PHARMACY #7ab8e8 0.11402777777777776\nKim, Kyung Bo PHARMACOLOGY & PHARMACY #7ab8e8 0\nMarsac, Patrick J. PHARMACOLOGY & PHARMACY #7ab8e8 0.18225\nTaylor, Lynne S. PHARMACOLOGY & PHARMACY #7ab8e8 0.13474074074074074\nScott, Daniel F. CHEMISTRY, MULTIDISCIPLINARY #f2b869 0.21533673469387754\nRohr, Juergen NANOSCIENCE & NANOTECHNOLOGY #fcc373 0.22708000000000006\nMuthusamy, Venkatraj CHEMISTRY, ORGANIC #a46425 0\nWillis, Peter G. CHEMISTRY, ORGANIC #a46425 0\nCammers, Arthur CHEMISTRY, MULTIDISCIPLINARY #f2b869 0.18373437499999995\nGalantowicz, Mark ENGINEERING, BIOMEDICAL #395ba5 0.183\nYates, Andrew R. ENGINEERING, BIOMEDICAL #395ba5 0.183\nPreston, Thomas J. ENGINEERING, BIOMEDICAL #395ba5 0.183\nMcConnell, Patrick I. ENGINEERING, BIOMEDICAL #395ba5 0.183\nRahman, Mohammed Shahidur CHEMISTRY, PHYSICAL #f8bf6f 0.09977777777777778\nJoshi, Suvid CHEMISTRY, PHYSICAL #f8bf6f 0.09569387755102042\nPatil, Vinod S. PLANT SCIENCES #436aaf 0.25675000000000003\nGutierrez, Angela M. PLANT SCIENCES #436aaf 0.29968000000000006\nKalika, Douglass S. PLANT SCIENCES #436aaf 0.1678888888888889\nAuthimoolam, Sundar P. MATERIALS SCIENCE, BIOMATERIALS #aa6b2b 0.24962809917355372\nNie, Haichen MEDICINE, RESEARCH & EXPERIMENTAL #90d7fe 0.08024999999999999\nSu, Yongchao MEDICINE, RESEARCH & EXPERIMENTAL #90d7fe 0.08024999999999999\nZhang, Mingtao CHEMISTRY, MULTIDISCIPLINARY #f2b869 0.19551851851851854\nSong, Yang MEDICINE, RESEARCH & EXPERIMENTAL #90d7fe 0.30648000000000003\nLeone, Anthony MEDICINE, RESEARCH & EXPERIMENTAL #90d7fe 0.08024999999999999\nByrn, Stephen R. MEDICINE, RESEARCH & EXPERIMENTAL #90d7fe 0.08024999999999999\nLu, Xiuling CHEMISTRY, MULTIDISCIPLINARY #f2b869 0.19950781250000002\nRinehart, John J. CHEMISTRY, MULTIDISCIPLINARY #f2b869 0.15177083333333333\nJay, Michael PHARMACOLOGY & PHARMACY #7ab8e8 0.21390304709141275\nWinkler, Michael A. RESPIRATORY SYSTEM #3657a2 0\nKirkby, Stephen RESPIRATORY SYSTEM #3657a2 0.16833333333333328\nCapasso, Patrizio RESPIRATORY SYSTEM #3657a2 0\nAttili, Anil K. RESPIRATORY SYSTEM #3657a2 0\nKoganti, Venkat R. CHEMISTRY, MULTIDISCIPLINARY #f2b869 0.07107555555555554\nKauffman, Kevin J. PHARMACOLOGY & PHARMACY #7ab8e8 0.07133333333333332\nKanthamneni, Naveen PHARMACOLOGY & PHARMACY #7ab8e8 0.06018749999999999\nPierson, Benjamin C. PHARMACOLOGY & PHARMACY #7ab8e8 0\nBachelder, Eric M. PHARMACOLOGY & PHARMACY #7ab8e8 0.06018749999999999\nAinslie, Kristy M. PHARMACOLOGY & PHARMACY #7ab8e8 0.06018749999999999\nYang, Shu ENGINEERING, INDUSTRIAL #999023 0.33965625\nUmbrello, Domenico ENGINEERING, INDUSTRIAL #999023 0.20066666666666666\nDillon, Oscar W., Jr. ENGINEERING, INDUSTRIAL #999023 0.28056000000000003\nJawahir, Ibrahim S. ENGINEERING, INDUSTRIAL #999023 0.28056000000000003\nAlani, Adam W. G. PHARMACOLOGY & PHARMACY #7ab8e8 0.22738888888888886\nRao, Deepa A. ENGINEERING, BIOMEDICAL #395ba5 0.0325\nKwon, Glen S. PHARMACOLOGY & PHARMACY #7ab8e8 0.21045454545454548\nHauser, Melanie R. CHEMISTRY, MULTIDISCIPLINARY #f2b869 0.0941111111111111\nZhakarov, Lev CHEMISTRY, MULTIDISCIPLINARY #f2b869 0.0941111111111111\nDoxsee, Kenneth M. CHEMISTRY, MULTIDISCIPLINARY #f2b869 0.0941111111111111\nSlusarewicz, Paul PARASITOLOGY #507cbd 0\nPagano, Stefanie PARASITOLOGY #507cbd 0\nMills, Christopher PARASITOLOGY #507cbd 0\nPopa, Gabriel PARASITOLOGY #507cbd 0\nMendenhall, Michael PARASITOLOGY #507cbd 0\nNielsen, Martin K. PARASITOLOGY #507cbd 0\nKim, Jin-Ki CHEMISTRY, MULTIDISCIPLINARY #f2b869 0.0486875\nDatta, Saurav CHEMISTRY, MULTIDISCIPLINARY #f2b869 0.1502222222222222\nMeyer, David CHEMISTRY, MULTIDISCIPLINARY #f2b869 0\nEnsor, C. Mark CHEMISTRY, MULTIDISCIPLINARY #f2b869 0.17495918367346935\nDaunert, Sylvia CHEMISTRY, MULTIDISCIPLINARY #f2b869 0.22793194706994324\nWagner, Jonathan M. BIOCHEMISTRY & MOLECULAR BIOLOGY #8cd1fa 0.25348632580261593\nEvans, Timothy J. BIOCHEMISTRY & MOLECULAR BIOLOGY #8cd1fa 0.22099489795918367\nKorotkov, Konstantin V. BIOPHYSICS #86c9f4 0.25255124653739613\nZou, Yuan ORTHOPEDICS #081572 0.28056000000000003\nHorstmann, Joanna K. ORTHOPEDICS #081572 0.18575\nTalwalkar, Vishwas ORTHOPEDICS #081572 0.18575\nLi, Xiaojian PHARMACOLOGY & PHARMACY #7ab8e8 0.27437278106508883\nVogt, Frederick G. PHARMACOLOGY & PHARMACY #7ab8e8 0.2167190082644628\nZwischenberger, Joseph B. PHARMACOLOGY & PHARMACY #7ab8e8 0.03262500000000001\nSchaefer, Kellie A. OPHTHALMOLOGY #12247d 0\nToral, Marcus A. OPHTHALMOLOGY #12247d 0\nVelez, Gabriel OPHTHALMOLOGY #12247d 0\nCox, Allison J. OPHTHALMOLOGY #12247d 0\nBaker, Sheila A. OPHTHALMOLOGY #12247d 0\nBorcherding, Nicholas C. OPHTHALMOLOGY #12247d 0\nColgan, Diana F. OPHTHALMOLOGY #12247d 0\nMashburn, Charles B. OPHTHALMOLOGY #12247d 0.21275\nTsang, Stephen H. OPHTHALMOLOGY #12247d 0\nBassuk, Alexander G. OPHTHALMOLOGY #12247d 0\nMahajan, Vinit B. OPHTHALMOLOGY #12247d 0\nGerstandt, Karen NANOSCIENCE & NANOTECHNOLOGY #fcc373 0.05122222222222222\nMajumder, Mainak CHEMISTRY, MULTIDISCIPLINARY #f2b869 0.18572022160664817\nDoleman, Leslie Ann CHEMISTRY, MULTIDISCIPLINARY #f2b869 0.13444444444444442\nDavies, Logan L. CHEMISTRY, ANALYTICAL #a86828 0.15125\nRowe, Laura CHEMISTRY, ANALYTICAL #a86828 0.15125\nMoschou, Elizabeth A. CHEMISTRY, ANALYTICAL #a86828 0.15125\nDeo, Sapna K. CHEMISTRY, ANALYTICAL #a86828 0.15125\nYewle, Jivan N. BIOCHEMISTRY & MOLECULAR BIOLOGY #8cd1fa 0.27018518518518514\nChen, Angela Y. CELL BIOLOGY #8acff8 0.08004000000000001\nDeLano, Frank A. CELL BIOLOGY #8acff8 0.08004000000000001\nValdez, Shakti R. CELL BIOLOGY #8acff8 0.08004000000000001\nSchmid-Schoenbein, Geert W. CELL BIOLOGY #8acff8 0.116265625\nHickman, Amanda N. MATERIALS SCIENCE, PAPER & WOOD #87450c 0\nSympson, William S. MATERIALS SCIENCE, PAPER & WOOD #87450c 0\nRuwaya, Mathew J. MATERIALS SCIENCE, PAPER & WOOD #87450c 0\nMontross, Michael MATERIALS SCIENCE, PAPER & WOOD #87450c 0\nDickerson, Matthew T. CHEMISTRY, MULTIDISCIPLINARY #f2b869 0.243938775510204\nHowerton, Brock MATERIALS SCIENCE, BIOMATERIALS #aa6b2b 0\nGlazer, Edith C. MATERIALS SCIENCE, BIOMATERIALS #aa6b2b 0\nAdams, Claire A. BIOCHEMISTRY & MOLECULAR BIOLOGY #8cd1fa 0\nMelikishvili, Manana BIOCHEMISTRY & MOLECULAR BIOLOGY #8cd1fa 0.10928000000000002\nRasimas, Joseph J. BIOCHEMISTRY & MOLECULAR BIOLOGY #8cd1fa 0\nPegg, Anthony E. BIOCHEMISTRY & MOLECULAR BIOLOGY #8cd1fa 0\nFried, Michael Gregory BIOCHEMISTRY & MOLECULAR BIOLOGY #8cd1fa 0.10372222222222223\nRockcliffe, David A. CHEMISTRY, MULTIDISCIPLINARY #f2b869 0\nMurali, Ayaluru CHEMISTRY, MULTIDISCIPLINARY #f2b869 0\nRussell, William K. CHEMISTRY, MULTIDISCIPLINARY #f2b869 0\nDeRose, Victoria J. CHEMISTRY, MULTIDISCIPLINARY #f2b869 0\nPapp, Joseph K. ENGINEERING, CHEMICAL #cf924a 0.14676\nPonta, Andrei PHARMACOLOGY & PHARMACY #7ab8e8 0.17851851851851855\nEckman, Allison M. CHEMISTRY, MULTIDISCIPLINARY #f2b869 0.18075000000000002\nOldham, Edward Davis CHEMISTRY, MULTIDISCIPLINARY #f2b869 0.205875\nNunes, Larissa M. CHEMISTRY, MULTIDISCIPLINARY #f2b869 0\nVarela-Ramirez, Armando CHEMISTRY, MULTIDISCIPLINARY #f2b869 0\nAguilera, Renato J. CHEMISTRY, MULTIDISCIPLINARY #f2b869 0.205875\nCai, Yiying BIOCHEMISTRY & MOLECULAR BIOLOGY #8cd1fa 0.014666666666666654\nChin, Harvey F. BIOCHEMISTRY & MOLECULAR BIOLOGY #8cd1fa 0.016499999999999987\nLazarova, Darina BIOCHEMISTRY & MOLECULAR BIOLOGY #8cd1fa 0.016499999999999987\nMenon, Shekar BIOCHEMISTRY & MOLECULAR BIOLOGY #8cd1fa 0.016499999999999987\nFu, Chunmei BIOCHEMISTRY & MOLECULAR BIOLOGY #8cd1fa 0.016499999999999987\nCai, Huaqing BIOCHEMISTRY & MOLECULAR BIOLOGY #8cd1fa 0.016499999999999987\nSclafani, Anthony BIOCHEMISTRY & MOLECULAR BIOLOGY #8cd1fa 0.016499999999999987\nDe La Cruz, Enrique M. BIOCHEMISTRY & MOLECULAR BIOLOGY #8cd1fa 0.016499999999999987\nFerro-Novick, Susan BIOCHEMISTRY & MOLECULAR BIOLOGY #8cd1fa 0.016499999999999987\nReinisch, Karin M. BIOCHEMISTRY & MOLECULAR BIOLOGY #8cd1fa 0.016499999999999987\nNovak, Karen F. MICROBIOLOGY #5583c1 0.14550000000000002\nDiamond, William J. MICROBIOLOGY #5583c1 0.14550000000000002\nKirakodu, Sreenatha MICROBIOLOGY #5583c1 0.14550000000000002\nMontelaro, Ronald C. MICROBIOLOGY #5583c1 0.14550000000000002\nMietzner, Timothy A. MICROBIOLOGY #5583c1 0.14550000000000002\nHamza, Adel CHEMISTRY, MEDICINAL #699fd6 0.2780625\nWei, Ning-Ning CHEMISTRY, MEDICINAL #699fd6 0.2780625\nKwiatkowski, Stefan CHEMISTRY, MEDICINAL #699fd6 0.27627\nZhan, Chang-Guo CHEMISTRY, MEDICINAL #699fd6 0.2895308641975309\nWatt, David S. CHEMISTRY, MEDICINAL #699fd6 0.27627\nHitchcook, Lisa J. MULTIDISCIPLINARY SCIENCES #87cbf5 0\nBradley, Luke H. MULTIDISCIPLINARY SCIENCES #87cbf5 0\nFugit, Kyle D. CHEMISTRY, MULTIDISCIPLINARY #f2b869 0.21788671874999999\nAnderson, Bradley D. PHARMACOLOGY & PHARMACY #7ab8e8 0.21542222222222226\nFeng, Shaoxin CHEMISTRY, MULTIDISCIPLINARY #f2b869 0.18075000000000002\nWang, Zimeng PHARMACOLOGY & PHARMACY #7ab8e8 0.14359375000000002\nCuddigan, Julie L. PHARMACOLOGY & PHARMACY #7ab8e8 0\nGupta, Sweta K. PHARMACOLOGY & PHARMACY #7ab8e8 0.1111875\nColburn, Andrew S. ENGINEERING, CHEMICAL #cf924a 0.14676\nMeeks, Noah D. ENGINEERING, CHEMICAL #cf924a 0.08528\nWeinman, Steven T. ENGINEERING, CHEMICAL #cf924a 0\nAl-Sabbagh, Mohanad ENGINEERING, BIOMEDICAL #395ba5 0.17755555555555555\nRabek, Cheryl L. ENGINEERING, BIOMEDICAL #395ba5 0.0325\nRogers, Colin CRITICAL CARE MEDICINE #32519d 0.18844444444444441\nWilliams, Sophie CRITICAL CARE MEDICINE #32519d 0.18844444444444441\nJoshi, Aashish NEUROSCIENCES #4c76b8 0.23977000000000004\nMaamoun, Amy CRITICAL CARE MEDICINE #32519d 0.18844444444444441\nLou, Dingyuan CRITICAL CARE MEDICINE #32519d 0.2342857142857143\nPoudel, Pramod Prasad CHEMISTRY, ORGANIC #a46425 0\nChen, Jing BIOCHEMISTRY & MOLECULAR BIOLOGY #8cd1fa 0.1687222222222222\nLakes, Andrew L. BIOCHEMISTRY & MOLECULAR BIOLOGY #8cd1fa 0.2593888888888889\nEbersole, Jeffrey L. BIOCHEMISTRY & MOLECULAR BIOLOGY #8cd1fa 0.25266666666666665\nGhoshal, Sarbani NEUROSCIENCES #4c76b8 0.21568367346938772\nSaatman, Kathryn E. NEUROSCIENCES #4c76b8 0.21008000000000002\nGuttmann, Rodney P. NEUROSCIENCES #4c76b8 0.24232000000000004\nReichert, William M. ENGINEERING, BIOMEDICAL #395ba5 0.0325\nHarris, Thomas R. ENGINEERING, BIOMEDICAL #395ba5 0.0325\nLemons, Jack ENGINEERING, BIOMEDICAL #395ba5 0.0325\nMikos, Antonios G. ENGINEERING, BIOMEDICAL #395ba5 0.0325\nSchoen, Frederick J. ENGINEERING, BIOMEDICAL #395ba5 0.0325\nTemenoff, Johnna S. ENGINEERING, BIOMEDICAL #395ba5 0.0325\nEske, Katryn ENVIRONMENTAL SCIENCES #90f96d 0\nHan, Sung Gu ENVIRONMENTAL SCIENCES #90f96d 0\nMurphy, Margaret ENVIRONMENTAL SCIENCES #90f96d 0\nRao, Alexander CHEMISTRY, MULTIDISCIPLINARY #f2b869 0.03425\nLi, Xueshu BIOPHYSICS #86c9f4 0.201625\nTuranek, Jaroslav CHEMISTRY, MULTIDISCIPLINARY #f2b869 0.1832\nKnoetigova, Pavlina BIOPHYSICS #86c9f4 0.201625\nKudlackova, Hana BIOPHYSICS #86c9f4 0.201625\nMasek, Josef BIOPHYSICS #86c9f4 0.201625\nBachas-Daunert, Philip CHEMISTRY, MULTIDISCIPLINARY #f2b869 0\nBlalock, Eric M. BIOCHEMISTRY & MOLECULAR BIOLOGY #8cd1fa 0.16875\nBuechel, Heather M. BIOCHEMISTRY & MOLECULAR BIOLOGY #8cd1fa 0.16875\nPopovic, Jelena BIOCHEMISTRY & MOLECULAR BIOLOGY #8cd1fa 0.16875\nLandfield, Philip W. BIOCHEMISTRY & MOLECULAR BIOLOGY #8cd1fa 0.16875\nPark, Ji Eun PHARMACOLOGY & PHARMACY #7ab8e8 0.09868749999999998\nAo, Lin PHARMACOLOGY & PHARMACY #7ab8e8 0\nChun, Se-Eun PHARMACOLOGY & PHARMACY #7ab8e8 0.09868749999999998\nHu, Di PHARMACOLOGY & PHARMACY #7ab8e8 0\nHan, Songhee PHARMACOLOGY & PHARMACY #7ab8e8 0\nRyoo, Gongmi PHARMACOLOGY & PHARMACY #7ab8e8 0.09868749999999998\nOh, Yunseok PHARMACOLOGY & PHARMACY #7ab8e8 0.09868749999999998\nPark, Shin-Hyung PHARMACOLOGY & PHARMACY #7ab8e8 0\nMin, Jee Sun PHARMACOLOGY & PHARMACY #7ab8e8 0.09868749999999998\nRyu, Heon-Min PHARMACOLOGY & PHARMACY #7ab8e8 0\nBae, Soo Kyung PHARMACOLOGY & PHARMACY #7ab8e8 0.09868749999999998\nLee, Ho-Young PHARMACOLOGY & PHARMACY #7ab8e8 0\nJeong, Hyunyoung PHARMACOLOGY & PHARMACY #7ab8e8 0\nDas, Saikat CHEMISTRY, PHYSICAL #f8bf6f 0.0670828402366864\nNagpure, Suraj CHEMISTRY, PHYSICAL #f8bf6f 0.10138666666666665\nIslam, Syed Z. MATERIALS SCIENCE, MULTIDISCIPLINARY #ffc675 0.1122189349112426\nKuhn, Robert J. CHEMISTRY, MEDICINAL #699fd6 0.04350000000000001\nVyas, Sandhya M. CHEMISTRY, PHYSICAL #f8bf6f 0.2156428571428572\nKhan, M. Arif MATERIALS SCIENCE, MULTIDISCIPLINARY #ffc675 0.044062500000000004\nZhang, Qiang PHARMACOLOGY & PHARMACY #7ab8e8 0\nLenihan, Jeffrey S. BIOCHEMICAL RESEARCH METHODS #6ca3d9 0.16488888888888886\nBall, J. Christopher BIOCHEMICAL RESEARCH METHODS #6ca3d9 0.16488888888888886\nHines, John BIOCHEMICAL RESEARCH METHODS #6ca3d9 0.16488888888888886\nZhang, Xiaoyan CELL BIOLOGY #8acff8 0.21530165289256195\nHurng, Jonathan CELL BIOLOGY #8acff8 0.06637499999999999\nRateri, Debra L. CELL BIOLOGY #8acff8 0.06637499999999999\nDaugherty, Alan CELL BIOLOGY #8acff8 0.19816528925619833\nIsner, Austin B. POLYMER SCIENCE #d59950 0.11844444444444442\nWaldrop, Krysta ENGINEERING, CHEMICAL #cf924a 0.13324999999999998\nTakigawa, Doreen ENGINEERING, CHEMICAL #cf924a 0.13324999999999998\nCunningham, Larry L., Jr. MATERIALS SCIENCE, BIOMATERIALS #aa6b2b 0.2555306122448979\nYarana, Chontida BIOCHEMISTRY & MOLECULAR BIOLOGY #8cd1fa 0.10875000000000001\nCarroll, Dustin BIOCHEMISTRY & MOLECULAR BIOLOGY #8cd1fa 0.10875000000000001\nChaiswing, Luksana BIOCHEMISTRY & MOLECULAR BIOLOGY #8cd1fa 0.10875000000000001\nZhao, Yanming BIOCHEMISTRY & MOLECULAR BIOLOGY #8cd1fa 0.10875000000000001\nNoel, Teresa BIOCHEMISTRY & MOLECULAR BIOLOGY #8cd1fa 0.10875000000000001\nAlstott, Michael BIOCHEMISTRY & MOLECULAR BIOLOGY #8cd1fa 0.10875000000000001\nDressler, Emily V. BIOCHEMISTRY & MOLECULAR BIOLOGY #8cd1fa 0.10875000000000001\nZhu, Haining BIOCHEMISTRY & MOLECULAR BIOLOGY #8cd1fa 0.08408\nButterfield, D. Allan BIOCHEMISTRY & MOLECULAR BIOLOGY #8cd1fa 0.2156938775510204\nSt Clair, Daret K. BIOCHEMISTRY & MOLECULAR BIOLOGY #8cd1fa 0.14933333333333332\nWydra, Robert J. MATERIALS SCIENCE, BIOMATERIALS #aa6b2b 0.2124642857142857\nKruse, Anastasia M. MATERIALS SCIENCE, BIOMATERIALS #aa6b2b 0.028888888888888888\nTalbert, Dominique R. PHARMACOLOGY & PHARMACY #7ab8e8 0\nPotter, Philip M. PHARMACOLOGY & PHARMACY #7ab8e8 0\nLeggas, Markos PHARMACOLOGY & PHARMACY #7ab8e8 0.11568000000000003\nZhan, Dongying CELL BIOLOGY #8acff8 0.12143209876543207\nAsafo-Adjei, Theodora A. CHEMISTRY, MULTIDISCIPLINARY #f2b869 0.18087499999999998\nChan, Sum BIOPHYSICS #86c9f4 0\nEvans's, Timothy J. BIOPHYSICS #86c9f4 0\nKahng, Sara BIOPHYSICS #86c9f4 0\nKim, Jennifer BIOPHYSICS #86c9f4 0\nArbing, Mark A. BIOPHYSICS #86c9f4 0\nEisenberg, David BIOPHYSICS #86c9f4 0\nYikilmaz, Emine CHEMISTRY, MULTIDISCIPLINARY #f2b869 0\nHu, Bing MATERIALS SCIENCE, MULTIDISCIPLINARY #ffc675 0.1053265306122449\nLiu, Xin BIOCHEMICAL RESEARCH METHODS #6ca3d9 0.05199999999999999\nGillespie, Megan BIOCHEMICAL RESEARCH METHODS #6ca3d9 0.05199999999999999\nOzel, Ayca Demirel BIOCHEMICAL RESEARCH METHODS #6ca3d9 0.05199999999999999\nDikici, Emre BIOCHEMICAL RESEARCH METHODS #6ca3d9 0.05199999999999999\nShen, Xin-Ming GENETICS & HEREDITY #82c2ef 0\nCrawford, Thomas O. GENETICS & HEREDITY #82c2ef 0\nBrengman, Joan GENETICS & HEREDITY #82c2ef 0\nAcsadi, Gyula GENETICS & HEREDITY #82c2ef 0\nIannaconne, Susan GENETICS & HEREDITY #82c2ef 0\nKaraca, Emin GENETICS & HEREDITY #82c2ef 0\nKhoury, Chaouky GENETICS & HEREDITY #82c2ef 0\nMah, Jean K. GENETICS & HEREDITY #82c2ef 0\nEdvardson, Shimon GENETICS & HEREDITY #82c2ef 0\nBajzer, Zeljko GENETICS & HEREDITY #82c2ef 0\nEngel, Andrew G. GENETICS & HEREDITY #82c2ef 0\nDeLuca, Patrick P. PHARMACOLOGY & PHARMACY #7ab8e8 0.18712500000000004\nCao, Pengxiao CHEMISTRY, MULTIDISCIPLINARY #f2b869 0.2305\nBower, Curtis E. SURGERY #0d1b77 0\nHarris, Jennifer Whittington SURGERY #0d1b77 0\nHauser, Anastasia K. ENGINEERING, BIOMEDICAL #395ba5 0.24220987654320983\nRychahou, Piotr G. PHARMACOLOGY & PHARMACY #7ab8e8 0.24495138888888884\nEvers, B. Mark CHEMISTRY, MULTIDISCIPLINARY #f2b869 0.2507107438016529\nZhang, Hongbo NANOSCIENCE & NANOTECHNOLOGY #fcc373 0.005500000000000005\nLiu, Jie NANOSCIENCE & NANOTECHNOLOGY #fcc373 0.005500000000000005\nGutierrez, Julio CHEMISTRY, MULTIDISCIPLINARY #f2b869 0.05350000000000002\nEisenberg, Rodney CHEMISTRY, MULTIDISCIPLINARY #f2b869 0.05350000000000002\nHerrensmith, Gabrielle CHEMISTRY, MULTIDISCIPLINARY #f2b869 0.05350000000000002\nTobin, Thomas CHEMISTRY, MULTIDISCIPLINARY #f2b869 0.05350000000000002\nZhou, Qunfei CHEMISTRY, PHYSICAL #f8bf6f 0.0675\nFursule, Ishan A. CHEMISTRY, PHYSICAL #f8bf6f 0.2836530612244898\nBeck, Matthew J. CHEMISTRY, PHYSICAL #f8bf6f 0.0675\nLeifer, Jack ENGINEERING, AEROSPACE #9d9528 0\nBlack, Jonathan T. ENGINEERING, AEROSPACE #9d9528 0\nSmith, Suzanne Weaver ENGINEERING, AEROSPACE #9d9528 0\nMa, Ning ENGINEERING, AEROSPACE #9d9528 0\nBrown, Matthew E. ENGINEERING, BIOMEDICAL #395ba5 0.1592222222222222\nReed, Allen CHEMISTRY, PHYSICAL #f8bf6f 0.08391836734693878\nKim, Doo Young CHEMISTRY, PHYSICAL #f8bf6f 0.23696000000000003\nYezierski, Robert P. NEUROSCIENCES #4c76b8 0.22292187500000002\nRaza, Kashif NEUROSCIENCES #4c76b8 0.21136224489795916\nLi, YongChao NEUROSCIENCES #4c76b8 0.24712426035502957\nTolbert, Melanie E. POLYMER SCIENCE #d59950 0\nNewton, Brittany POLYMER SCIENCE #d59950 0\nChotibut, Tanya NEUROSCIENCES #4c76b8 0\nDavis, RichardW. NEUROSCIENCES #4c76b8 0\nArnold, Jennifer C. NEUROSCIENCES #4c76b8 0\nFrenchek, Zachary NEUROSCIENCES #4c76b8 0\nGurwara, Shawn NEUROSCIENCES #4c76b8 0\nSalvatore, Michael F. NEUROSCIENCES #4c76b8 0\nRoganowicz, Marcin D. BIOLOGY #8fd5fd 0\nSkorupka, Katarzyna BIOLOGY #8fd5fd 0\nAlam, Steven L. BIOLOGY #8fd5fd 0\nChristense, Devin BIOLOGY #8fd5fd 0\nDoss, Ginna BIOLOGY #8fd5fd 0\nWan, Yueping BIOLOGY #8fd5fd 0\nFrank, Gabriel A. BIOLOGY #8fd5fd 0\nGanser-Pornillos, Barbie K. BIOLOGY #8fd5fd 0.03893749999999999\nSundquist, Wesley I. BIOLOGY #8fd5fd 0\nPornillo, Owen BIOLOGY #8fd5fd 0\nOjogun, Vivian A. CHEMISTRY, PHYSICAL #f8bf6f 0.23775\nTimmons, Michael D. BIOTECHNOLOGY & APPLIED MICROBIOLOGY #79b6e6 0\nCheng, Ran SPORT SCIENCES #020d6c 0.3109375\nYu, Guoqiang SPORT SCIENCES #020d6c 0.3109375\nUribe, Gabriela Romero CHEMISTRY, MULTIDISCIPLINARY #f2b869 0\nLi, Dongfeng CHEMISTRY, MULTIDISCIPLINARY #f2b869 0\nClerac, Rodolphe CHEMISTRY, MULTIDISCIPLINARY #f2b869 0\nWernsdorfer, Wolfgang CHEMISTRY, MULTIDISCIPLINARY #f2b869 0\nWang, Guangbin CHEMISTRY, MULTIDISCIPLINARY #f2b869 0\nYee, Gordon T. CHEMISTRY, MULTIDISCIPLINARY #f2b869 0\nReneer, Dexter V. NEUROSCIENCES #4c76b8 0.20450694444444445\nHisel, Richard D. CRITICAL CARE MEDICINE #32519d 0.18844444444444441\nHoffman, Joshua M. CRITICAL CARE MEDICINE #32519d 0.18844444444444441\nKryscio, Richard J. CRITICAL CARE MEDICINE #32519d 0.18844444444444441\nLusk, Braden T. CRITICAL CARE MEDICINE #32519d 0.18844444444444441\nSpencer, David CHEMISTRY, MULTIDISCIPLINARY #f2b869 0.049444444444444444\nBaker, Peter B. RESPIRATORY SYSTEM #3657a2 0\nPeeples, Mark E. RESPIRATORY SYSTEM #3657a2 0\nNicol, Kathleen K. RESPIRATORY SYSTEM #3657a2 0\nLi, Xin ENGINEERING, CHEMICAL #cf924a 0\nZahran, Elsayed M. BIOCHEMICAL RESEARCH METHODS #6ca3d9 0.2520833333333333\nProdromidis, Mamas I. BIOCHEMICAL RESEARCH METHODS #6ca3d9 0.05199999999999999\nBrousseau, Sarah PHARMACOLOGY & PHARMACY #7ab8e8 0\nLewis, Scott R. CHEMISTRY, MULTIDISCIPLINARY #f2b869 0.24251020408163257\nvan Swol, Frank CHEMISTRY, MULTIDISCIPLINARY #f2b869 0\nMalanoski, Anthony CHEMISTRY, MULTIDISCIPLINARY #f2b869 0\nGulati, Gaurav Kumar NANOSCIENCE & NANOTECHNOLOGY #fcc373 0.22425\nChen, Tao NANOSCIENCE & NANOTECHNOLOGY #fcc373 0.1510625\nZhang, Xiaolu CHEMISTRY, MULTIDISCIPLINARY #f2b869 0.11050000000000001\nDeRouchey, Jason E. CHEMISTRY, MULTIDISCIPLINARY #f2b869 0.11050000000000001\nXu, Wenjin CHEMISTRY, PHYSICAL #f8bf6f 0.25308\nMazik, Marta PHARMACOLOGY & PHARMACY #7ab8e8 0\nEldridge, Joshua PHARMACOLOGY & PHARMACY #7ab8e8 0\nCurtis, Louis T. CHEMISTRY, MULTIDISCIPLINARY #f2b869 0.18075000000000002\nEhlman, Elizabeth CHEMISTRY, MULTIDISCIPLINARY #f2b869 0.18075000000000002\nFrieboes, Hermann B. CHEMISTRY, MULTIDISCIPLINARY #f2b869 0.18075000000000002\nZhou, Panpan CHEMISTRY, MULTIDISCIPLINARY #f2b869 0.12247656250000002\nMattei, Alessandra CHEMISTRY, MULTIDISCIPLINARY #f2b869 0.18238222222222225\nNg, Gilbert IMMUNOLOGY #6093cd 0\nSharma, Karan IMMUNOLOGY #6093cd 0\nWard, Sandra M. IMMUNOLOGY #6093cd 0\nDesrosiers, Melanie D. IMMUNOLOGY #6093cd 0\nStephens, Leslie A. IMMUNOLOGY #6093cd 0\nSchoel, Michael IMMUNOLOGY #6093cd 0\nLowell, Clifford A. IMMUNOLOGY #6093cd 0\nLing, Chang-Chun IMMUNOLOGY #6093cd 0\nAmrein, Matthias W. IMMUNOLOGY #6093cd 0\nShi, Yan IMMUNOLOGY #6093cd 0\nGupta, Prachi MATERIALS SCIENCE, BIOMATERIALS #aa6b2b 0.19676000000000002\nPetriello, Michael C. ENVIRONMENTAL SCIENCES #90f96d 0\nGreineder, Colin F. PHARMACOLOGY & PHARMACY #7ab8e8 0.21336\nCarnemolla, Ronald HEMATOLOGY #6397d0 0\nCines, Douglas B. HEMATOLOGY #6397d0 0\nPaudel, Kalpana S. CHEMISTRY, MEDICINAL #699fd6 0.18240816326530612\nStinchcomb, Audra L. PHARMACOLOGY & PHARMACY #7ab8e8 0.18439506172839504\nDziublal, Thomas D. NANOSCIENCE & NANOTECHNOLOGY #fcc373 0.14375\nLangner, Ulrich ONCOLOGY #5887c4 0\nSt Clair, William ONCOLOGY #5887c4 0\nLiu, Meng CHEMISTRY, MULTIDISCIPLINARY #f2b869 0.04755555555555557\nYin, Chuming CHEMISTRY, MULTIDISCIPLINARY #f2b869 0.05350000000000002\nChen, Peng CHEMISTRY, MULTIDISCIPLINARY #f2b869 0.04755555555555557\nYu, Faquan CHEMISTRY, MULTIDISCIPLINARY #f2b869 0.07744444444444445\nAvery, Michelle A. BIOCHEMISTRY & MOLECULAR BIOLOGY #8cd1fa 0.016499999999999987\nRooney, Timothy M. BIOCHEMISTRY & MOLECULAR BIOLOGY #8cd1fa 0.016499999999999987\nPandya, Jignesh D. CLINICAL NEUROLOGY #8a3f8d 0.23502\nWishart, Thomas M. BIOCHEMISTRY & MOLECULAR BIOLOGY #8cd1fa 0.016499999999999987\nGillingwater, Thomas H. BIOCHEMISTRY & MOLECULAR BIOLOGY #8cd1fa 0.016499999999999987\nFreeman, Marc R. BIOCHEMISTRY & MOLECULAR BIOLOGY #8cd1fa 0.25788000000000005\nMei, Xiaonan CHEMISTRY, MULTIDISCIPLINARY #f2b869 0.0941111111111111\nDelaney, Sean P. MATERIALS SCIENCE, MULTIDISCIPLINARY #ffc675 0\nMunson, Eric J. MATERIALS SCIENCE, MULTIDISCIPLINARY #ffc675 0.23899999999999996\nOsei-Prempeh, Gifty ENGINEERING, CHEMICAL #cf924a 0.23754320987654312\nHardas, Sarita S. ENGINEERING, BIOMEDICAL #395ba5 0.209625\nLim, Eun Jeong BIOCHEMISTRY & MOLECULAR BIOLOGY #8cd1fa 0\nSampath, Sowmya BIOCHEMISTRY & MOLECULAR BIOLOGY #8cd1fa 0\nColl-Rodriguez, Jerry BIOCHEMISTRY & MOLECULAR BIOLOGY #8cd1fa 0\nSchmidt, Jack J. BIOCHEMISTRY & MOLECULAR BIOLOGY #8cd1fa 0\nRay, Kallol BIOCHEMISTRY & MOLECULAR BIOLOGY #8cd1fa 0.1313333333333333\nMay, Allison M. BIOCHEMICAL RESEARCH METHODS #6ca3d9 0.193125\nZheng, Zheng BIOCHEMICAL RESEARCH METHODS #6ca3d9 0.193125\nBowman, Christopher N. BIOCHEMICAL RESEARCH METHODS #6ca3d9 0.193125\nMorris, Jonathan David CHEMISTRY, MULTIDISCIPLINARY #f2b869 0\nSohn, MinJi PHARMACOLOGY & PHARMACY #7ab8e8 0.2078888888888889\nWoo, Byung H. PHARMACOLOGY & PHARMACY #7ab8e8 0\nThanoo, B. C. PHARMACOLOGY & PHARMACY #7ab8e8 0\nSimeone, Kristina A. CLINICAL NEUROLOGY #8a3f8d 0.07250000000000001\nSimeone, Timothy A. CLINICAL NEUROLOGY #8a3f8d 0.07250000000000001\nWilke, Julianne C. CLINICAL NEUROLOGY #8a3f8d 0.07250000000000001\nAhn, Younghee CLINICAL NEUROLOGY #8a3f8d 0.07250000000000001\nRho, Jong M. CLINICAL NEUROLOGY #8a3f8d 0.07250000000000001\nAsato, Caitlin M. BIOTECHNOLOGY & APPLIED MICROBIOLOGY #79b6e6 0.16062500000000002\nGonzalez-Estrella, Jorge BIOTECHNOLOGY & APPLIED MICROBIOLOGY #79b6e6 0.16062500000000002\nJerke, Amber C. BIOTECHNOLOGY & APPLIED MICROBIOLOGY #79b6e6 0.16062500000000002\nBang, Sookie S. AGRICULTURAL ENGINEERING #34892d 0.165\nStone, James J. BIOTECHNOLOGY & APPLIED MICROBIOLOGY #79b6e6 0.16062500000000002\nGilcrease, Patrick C. BIOTECHNOLOGY & APPLIED MICROBIOLOGY #79b6e6 0.16062500000000002\nAl-Ghananeem, Abeer BIOCHEMISTRY & MOLECULAR BIOLOGY #8cd1fa 0.187\nYu, Yue BIOCHEMICAL RESEARCH METHODS #6ca3d9 0.24336000000000002\nMills, Landon C. BIOCHEMICAL RESEARCH METHODS #6ca3d9 0.24336000000000002\nEnglert, Derek L. BIOCHEMICAL RESEARCH METHODS #6ca3d9 0.24336000000000002\nPayne, Christina M. BIOCHEMICAL RESEARCH METHODS #6ca3d9 0.24336000000000002\nHaines, R. Trent EDUCATION, SCIENTIFIC DISCIPLINES #5a1661 0.23299999999999998\nVenugopal, Ganesh ENGINEERING, BIOMEDICAL #395ba5 0.0325\nDuan, Jinghua PHARMACOLOGY & PHARMACY #7ab8e8 0.23140000000000005\nStrasinger, Caroline MULTIDISCIPLINARY SCIENCES #87cbf5 0.1891875\nHammell, Dana MULTIDISCIPLINARY SCIENCES #87cbf5 0.1891875\nOistilli, Christina K. CRITICAL CARE MEDICINE #32519d 0.18844444444444441\nIqbal, Hina CRITICAL CARE MEDICINE #32519d 0.18844444444444441\nYounger, Bradley R. EMERGENCY MEDICINE #0f207a 0.14750000000000002\nStrawbridge, Heather EMERGENCY MEDICINE #0f207a 0.20375\nCrowdus, Carolyn CRITICAL CARE MEDICINE #32519d 0.18844444444444441\nSingh, Ranjana CRITICAL CARE MEDICINE #32519d 0.23728099173553718\nPower, Ronan F. CRITICAL CARE MEDICINE #32519d 0.22359183673469388\nPatel, Samir CRITICAL CARE MEDICINE #32519d 0.18844444444444441\nRabchevsky, Alexander CRITICAL CARE MEDICINE #32519d 0.18844444444444441\nKalra, Arjun MEDICINE, RESEARCH & EXPERIMENTAL #90d7fe 0.08024999999999999\nTishmack, Patrick MEDICINE, RESEARCH & EXPERIMENTAL #90d7fe 0.08024999999999999\nLubach, Joseph W. MEDICINE, RESEARCH & EXPERIMENTAL #90d7fe 0.08024999999999999\nGuzman, Elisa A. Torrico ONCOLOGY #5887c4 0\nFukuda, Shunichi CELL BIOLOGY #8acff8 0.1782222222222222\nTee, Yit-Hong CHEMISTRY, PHYSICAL #f8bf6f 0.0486875\nPark, Joonyoung BIOCHEMISTRY & MOLECULAR BIOLOGY #8cd1fa 0.03511111111111111\nYeo, Yoon BIOCHEMISTRY & MOLECULAR BIOLOGY #8cd1fa 0.03511111111111111\nFang, Lei BIOCHEMISTRY & MOLECULAR BIOLOGY #8cd1fa 0\nHou, Shurong BIOCHEMISTRY & MOLECULAR BIOLOGY #8cd1fa 0\nXue, Liu BIOCHEMISTRY & MOLECULAR BIOLOGY #8cd1fa 0\nChen, Xiabin BIOCHEMISTRY & MOLECULAR BIOLOGY #8cd1fa 0\nZheng, Fang BIOCHEMISTRY & MOLECULAR BIOLOGY #8cd1fa 0\nMedley, John M. ENGINEERING, BIOMEDICAL #395ba5 0.0325\nKaplan, Eugene ENGINEERING, BIOMEDICAL #395ba5 0.0325\nOz, Helieh S. ENGINEERING, BIOMEDICAL #395ba5 0.187125\nMontague, Alex CHEMISTRY, MULTIDISCIPLINARY #f2b869 0.1275\nDeshpande, Rutooj D. CHEMISTRY, PHYSICAL #f8bf6f 0.02433333333333333\nYang, Fuqian CHEMISTRY, PHYSICAL #f8bf6f 0.02433333333333333\nDan, Mo CHEMISTRY, MULTIDISCIPLINARY #f2b869 0.20432000000000003\nHardy, Peter A. CHEMISTRY, MULTIDISCIPLINARY #f2b869 0.18075000000000002\nYokel, Robert A. CHEMISTRY, MULTIDISCIPLINARY #f2b869 0.20432000000000003\nKasna, Andrea CHEMISTRY, MULTIDISCIPLINARY #f2b869 0\nKvardova, Veronika CHEMISTRY, MULTIDISCIPLINARY #f2b869 0\nGhosh, Gargi CHEMISTRY, ANALYTICAL #a86828 0.20727160493827163\nKessler, Jan H. IMMUNOLOGY #6093cd 0\nKhan, Selina IMMUNOLOGY #6093cd 0\nSeifert, Ulrike IMMUNOLOGY #6093cd 0\nLe Gall, Sylvie IMMUNOLOGY #6093cd 0\nPaschen, Annette IMMUNOLOGY #6093cd 0\nBres-Vloemans, Sandra A. IMMUNOLOGY #6093cd 0\nde Ru, Arnoud IMMUNOLOGY #6093cd 0\nvan Montfoort, Nadine IMMUNOLOGY #6093cd 0\nFranken, Kees L. M. C. IMMUNOLOGY #6093cd 0\nBenckhuijsen, Willemien E. IMMUNOLOGY #6093cd 0\nBrooks, Jill M. IMMUNOLOGY #6093cd 0\nvan Hall, Thorbald IMMUNOLOGY #6093cd 0\nMulder, Arend IMMUNOLOGY #6093cd 0\nDoxiadis, Ilias I. N. IMMUNOLOGY #6093cd 0\nvan Swieten, Paul F. IMMUNOLOGY #6093cd 0\nOverkleeft, Hermen S. IMMUNOLOGY #6093cd 0\nPrat, Annik IMMUNOLOGY #6093cd 0\nTomkinson, Birgitta IMMUNOLOGY #6093cd 0\nNeefjes, Jacques IMMUNOLOGY #6093cd 0\nKloetzel, Peter M. IMMUNOLOGY #6093cd 0\nDrijfhout, Jan W. IMMUNOLOGY #6093cd 0\nvan Veelen, Peter A. IMMUNOLOGY #6093cd 0\nOssendorp, Ferry IMMUNOLOGY #6093cd 0\nMelief, Cornelis J. M. IMMUNOLOGY #6093cd 0\nFrimpong, Reynolds A. MATERIALS SCIENCE, MULTIDISCIPLINARY #ffc675 0.20169135802469135\nFraser, Stew ENGINEERING, BIOMEDICAL #395ba5 0.0325\nFrechette, Danielle M. CELL & TISSUE ENGINEERING #83c4f1 0.1776875\nRohner, Nathan CELL & TISSUE ENGINEERING #83c4f1 0.1776875\nBjursten, Lars M. CELL & TISSUE ENGINEERING #83c4f1 0.1776875\nLeontsev, Serhiy O. MATERIALS SCIENCE, CERAMICS #e7ac60 0.04000000000000001\nKeis, Karin ENGINEERING, CHEMICAL #cf924a 0.13324999999999998\nMeadows, Corey ENGINEERING, CHEMICAL #cf924a 0.13324999999999998\nCole, Jeggan ENGINEERING, CHEMICAL #cf924a 0.13324999999999998\nRowe, Dylan HEMATOLOGY #6397d0 0.22743750000000001\nSethu, Palaniappan HEMATOLOGY #6397d0 0.22743750000000001\nZwischenberger, Brittany A. SURGERY #0d1b77 0\nLevy, Salomon M. SURGERY #0d1b77 0\nLynch, Andrew L. ENGINEERING, ENVIRONMENTAL #6fd156 0.18555555555555553\nHampson, Steve ENGINEERING, ENVIRONMENTAL #6fd156 0.02300000000000002\nSafazadeh, Leila CHEMISTRY, MULTIDISCIPLINARY #f2b869 0.05411111111111111\nZehuri, Victor E. F. CHEMISTRY, MULTIDISCIPLINARY #f2b869 0.05411111111111111\nPautler, Samuel P. CHEMISTRY, MULTIDISCIPLINARY #f2b869 0.05411111111111111\nHastings, J. Todd CHEMISTRY, MULTIDISCIPLINARY #f2b869 0.05411111111111111\nOzbil, Mehmet MULTIDISCIPLINARY SCIENCES #87cbf5 0\nZhang, Tingting MULTIDISCIPLINARY SCIENCES #87cbf5 0\nSheetz, Michael MULTIDISCIPLINARY SCIENCES #87cbf5 0\nLee, David MULTIDISCIPLINARY SCIENCES #87cbf5 0\nTran, Danny MULTIDISCIPLINARY SCIENCES #87cbf5 0\nLi, Sheng MULTIDISCIPLINARY SCIENCES #87cbf5 0\nPrabhakar, Rajeev MULTIDISCIPLINARY SCIENCES #87cbf5 0\nSewell, Mary Kathryn CHEMISTRY, MULTIDISCIPLINARY #f2b869 0\nAnkareddi, Induvadana CHEMISTRY, MULTIDISCIPLINARY #f2b869 0\nZhang, Chuanqian CHEMISTRY, MULTIDISCIPLINARY #f2b869 0\nHampel, Mary L. CHEMISTRY, MULTIDISCIPLINARY #f2b869 0\nKim, Dong-Hyun CHEMISTRY, MULTIDISCIPLINARY #f2b869 0\nBrazel, Christopher S. CHEMISTRY, MULTIDISCIPLINARY #f2b869 0\nWatts, Amanda S. CHEMISTRY, ANALYTICAL #a86828 0.16633333333333333\nAndrada, Pilar Sanchez CHEMISTRY, ANALYTICAL #a86828 0.16633333333333333\nAlajarin, Mateo CHEMISTRY, ANALYTICAL #a86828 0.16633333333333333\nWinquist, Nickolas CHEMISTRY, MULTIDISCIPLINARY #f2b869 0.18075000000000002\nJiang, Yuhang CHEMISTRY, MULTIDISCIPLINARY #f2b869 0.18075000000000002\nArounleut, Phonepasong CHEMISTRY, MULTIDISCIPLINARY #f2b869 0.18075000000000002\nRheiner, Steven PHARMACOLOGY & PHARMACY #7ab8e8 0.22636000000000003\nKabanov, Alexander V. CHEMISTRY, MULTIDISCIPLINARY #f2b869 0.18075000000000002\nMilligan, Carol CHEMISTRY, MULTIDISCIPLINARY #f2b869 0.18075000000000002\nManickama, Devika S. CHEMISTRY, MULTIDISCIPLINARY #f2b869 0.18075000000000002\nMcCoy, Karen S. SURGERY #0d1b77"
     ]
    },
    {
     "name": "stdout",
     "output_type": "stream",
     "text": [
      " 0.09425\nKhosravi, Medhi SURGERY #0d1b77 0.09425\nTobias, Joseph D. SURGERY #0d1b77 0.09425\nHamorsky, Krystal Teasley CHEMISTRY, MULTIDISCIPLINARY #f2b869 0.1910277777777778\nBrowning, James F. CHEMISTRY, APPLIED #b97b38 0.1148125\nXul, Shifen CHEMISTRY, MULTIDISCIPLINARY #f2b869 0.07544000000000001\nde Leon, Ame C. CHEMISTRY, MULTIDISCIPLINARY #f2b869 0.07544000000000001\nNoinaj, Nicholas MULTIDISCIPLINARY SCIENCES #87cbf5 0.036250000000000004\nBhasin, Sonia K. MULTIDISCIPLINARY SCIENCES #87cbf5 0.036250000000000004\nScoggin, Kirsten E. MULTIDISCIPLINARY SCIENCES #87cbf5 0\nGoldsmith, Jacob CHEMISTRY, PHYSICAL #f8bf6f 0.02433333333333333\nMoore, Ida M. (Ki) NURSING #6a236f 0\nMerkle, Carrie J. NURSING #6a236f 0\nByrne, Howard NURSING #6a236f 0\nRoss, Adam NURSING #6a236f 0\nAmeli, Sara S. NURSING #6a236f 0\nMontgomery, David W. NURSING #6a236f 0\nWu, Pei-Jung CHEMISTRY, MULTIDISCIPLINARY #f2b869 0.05411111111111111\nArreaza, Roberto CHEMISTRY, MULTIDISCIPLINARY #f2b869 0.05411111111111111\nVasilakes, Andrew L. BIOCHEMISTRY & MOLECULAR BIOLOGY #8cd1fa 0.25266666666666665\nShah, Nihar M. BIOCHEMISTRY & MOLECULAR BIOLOGY #8cd1fa 0.26224\nLu, Wei CHEMISTRY, MULTIDISCIPLINARY #f2b869 0\nKwan, Kevin CHEMISTRY, MULTIDISCIPLINARY #f2b869 0\nHouben, Edith N. G. BIOCHEMISTRY & MOLECULAR BIOLOGY #8cd1fa 0.024999999999999994\nBitter, Wilbert BIOCHEMISTRY & MOLECULAR BIOLOGY #8cd1fa 0.024999999999999994\nCullen, D. Kacy NEUROSCIENCES #4c76b8 0.13144444444444445\nXu, Yongan NEUROSCIENCES #4c76b8 0.13144444444444445\nBrowne, Kevin D. NEUROSCIENCES #4c76b8 0.13144444444444445\nSmith, Douglas H. NEUROSCIENCES #4c76b8 0.13144444444444445\nTheiss, Kathryn L. PHARMACOLOGY & PHARMACY #7ab8e8 0.19775\nLoftin, Charles D. PHARMACOLOGY & PHARMACY #7ab8e8 0.19775\nSchoel, W. Michael IMMUNOLOGY #6093cd 0\nAher, Ashish CHEMISTRY, PHYSICAL #f8bf6f 0.18481250000000002\nCai, Yuguang CHEMISTRY, PHYSICAL #f8bf6f 0.027999999999999997\nRomanos, Georgios DENTISTRY, ORAL SURGERY & MEDICINE #071371 0\nPrice, Scott R. DENTISTRY, ORAL SURGERY & MEDICINE #071371 0\nRobinson, Fonda G. DENTISTRY, ORAL SURGERY & MEDICINE #071371 0\nZaytseva, Yekaterina ONCOLOGY #5887c4 0\nLee, Eun Y. ONCOLOGY #5887c4 0\nWeiss, Heidi L. CHEMISTRY, MULTIDISCIPLINARY #f2b869 0.23688000000000003\nPark, Seung-Ho MATERIALS SCIENCE, MULTIDISCIPLINARY #ffc675 0\nBaker, Amanda MATERIALS SCIENCE, MULTIDISCIPLINARY #ffc675 0\nRandall, Clive A. MATERIALS SCIENCE, MULTIDISCIPLINARY #ffc675 0\nUchino, Kenji MATERIALS SCIENCE, MULTIDISCIPLINARY #ffc675 0\nLee, Hyun Jin CHEMISTRY, MULTIDISCIPLINARY #f2b869 0.24551020408163265\nCorkins, Julie CRITICAL CARE MEDICINE #32519d 0.18844444444444441\nBurdick, Jared CHEMISTRY, MULTIDISCIPLINARY #f2b869 0.0773611111111111\nKunwar, Anurag CHEMISTRY, MULTIDISCIPLINARY #f2b869 0.0773611111111111\nWang, Joseph CHEMISTRY, MULTIDISCIPLINARY #f2b869 0.0773611111111111\nBadugu, RamaKrishna BIOCHEMISTRY & MOLECULAR BIOLOGY #8cd1fa 0.23000000000000004\nGarcia, Matthew BIOCHEMISTRY & MOLECULAR BIOLOGY #8cd1fa 0.23000000000000004\nKim, Yu Jeong MEDICINE, RESEARCH & EXPERIMENTAL #90d7fe 0.08024999999999999\nKulbe, Jacqueline R. NEUROSCIENCES #4c76b8 0\nHatakeyama, Evan ENGINEERING, ENVIRONMENTAL #6fd156 0.10550000000000001\nPrakash, Prakhar ENGINEERING, ENVIRONMENTAL #6fd156 0.10550000000000001\nWeaver, Benjamin ENGINEERING, CHEMICAL #cf924a 0.169625\nMao, Tengfei CHEMISTRY, MULTIDISCIPLINARY #f2b869 0\nSeelam, Srivenu BIOCHEMISTRY & MOLECULAR BIOLOGY #8cd1fa 0.20587499999999997\nLema, Carolina F. BIOCHEMISTRY & MOLECULAR BIOLOGY #8cd1fa 0.210734693877551\nFiegel, Jennifer BIOCHEMISTRY & MOLECULAR BIOLOGY #8cd1fa 0.20587499999999997\nYonutas, Heather M. CRITICAL CARE MEDICINE #32519d 0.18844444444444441\nSebastian, Andrea CRITICAL CARE MEDICINE #32519d 0.18844444444444441\nSarma, Rupam NANOSCIENCE & NANOTECHNOLOGY #fcc373 0.005500000000000005\nIslam, Md. Saiful NANOSCIENCE & NANOTECHNOLOGY #fcc373 0.005500000000000005\nDou, Jian MATERIALS SCIENCE, MULTIDISCIPLINARY #ffc675 0.037000000000000005\nPechan, Michael MATERIALS SCIENCE, MULTIDISCIPLINARY #ffc675 0.037000000000000005\nHellman, Lance M. BIOPHYSICS #86c9f4 0\nDunphy, Darren CHEMISTRY, MULTIDISCIPLINARY #f2b869 0.0773611111111111\nGowrishankar, Vignesh CHEMISTRY, MULTIDISCIPLINARY #f2b869 0.0773611111111111\nMcGehee, Michael D. CHEMISTRY, MULTIDISCIPLINARY #f2b869 0.0773611111111111\nLi, Xuefa CHEMISTRY, MULTIDISCIPLINARY #f2b869 0.0773611111111111\nWang, Jin CHEMISTRY, MULTIDISCIPLINARY #f2b869 0.0773611111111111\nMadathil, Sindhu Kizhakke CRITICAL CARE MEDICINE #32519d 0.18844444444444441\nTuttle, Benjamin CRITICAL CARE MEDICINE #32519d 0.18844444444444441\nTsakalozou, Eleftheria CHEMISTRY, MULTIDISCIPLINARY #f2b869 0.18075000000000002\nKang, Nayon Y. CHEMISTRY, MULTIDISCIPLINARY #f2b869 0.18075000000000002\nChen, Tze-Haw H. PHARMACOLOGY & PHARMACY #7ab8e8 0\nFurgeson, Darin Y. PHARMACOLOGY & PHARMACY #7ab8e8 0\nDawidziak, Daria M. BIOCHEMISTRY & MOLECULAR BIOLOGY #8cd1fa 0.009250000000000008\nSanchez, Jacint G. BIOCHEMISTRY & MOLECULAR BIOLOGY #8cd1fa 0.009250000000000008\nPornillos, Owen BIOCHEMISTRY & MOLECULAR BIOLOGY #8cd1fa 0.03666666666666666\nTan, Bing CHEMISTRY, PHYSICAL #f8bf6f 0.08186419753086419\nLehmer, Hans-Joachim CHEMISTRY, MULTIDISCIPLINARY #f2b869 0.0773611111111111\nBenson, Adam CRITICAL CARE MEDICINE #32519d 0.18844444444444441\nLehmier, Hans-Joachim CHEMISTRY, APPLIED #b97b38 0.1148125\nRockich, Nicole C. CHEMISTRY, MULTIDISCIPLINARY #f2b869 0.18075000000000002\nLai, T. S. Z. Chung CHEMISTRY, MULTIDISCIPLINARY #f2b869 0.18075000000000002\nMehta, Ishan BIOPHYSICS #86c9f4 0.25676\nComette, Abagail L. BIOPHYSICS #86c9f4 0.25676\nAlper, Benjamin J. BIOCHEMISTRY & MOLECULAR BIOLOGY #8cd1fa 0\nSchmidt, Walter K. BIOCHEMISTRY & MOLECULAR BIOLOGY #8cd1fa 0\nStevens, Christopher A. ENGINEERING, CHEMICAL #cf924a 0.122\nBall, Amanda M. TRANSPLANTATION #3f64ab 0\nMartin, Craig A. TRANSPLANTATION #3f64ab 0\nFlynn, Jeremy D. TRANSPLANTATION #3f64ab 0\nJordan, Carolyn T. PHARMACOLOGY & PHARMACY #7ab8e8 0\nMitov, Mihail I. PHARMACOLOGY & PHARMACY #7ab8e8 0.1592222222222222\ndeKrafft, Kathryn E. NANOSCIENCE & NANOTECHNOLOGY #fcc373 0.005500000000000005\nWang, Cheng NANOSCIENCE & NANOTECHNOLOGY #fcc373 0.005500000000000005\nXie, Zhigang NANOSCIENCE & NANOTECHNOLOGY #fcc373 0.005500000000000005\nLin, Wenbin NANOSCIENCE & NANOTECHNOLOGY #fcc373 0.005500000000000005\nYu, Shuang CHEMISTRY, ANALYTICAL #a86828 0\nLuo, Ai-qin CHEMISTRY, ANALYTICAL #a86828 0\nNasr, Payman BIOCHEMISTRY & MOLECULAR BIOLOGY #8cd1fa 0.16875\nCarbery, Timothy BIOCHEMISTRY & MOLECULAR BIOLOGY #8cd1fa 0.16875\nRyou, Chongsuk ENGINEERING, BIOMEDICAL #395ba5 0.1582222222222222\nTitlow, William B. ENGINEERING, BIOMEDICAL #395ba5 0.0325\nMays, Charles E. ENGINEERING, BIOMEDICAL #395ba5 0.0325\nKim, Sehun ENGINEERING, BIOMEDICAL #395ba5 0.0325\nGray, Lindsay N. ENGINEERING, BIOMEDICAL #395ba5 0.0325\nHorrall, Nolan M. BIOPHYSICS #86c9f4 0.14625\nYao, Jingyuan PHYSICS, APPLIED #f6bc6d 0.032625\nClark, Jordan CRITICAL CARE MEDICINE #32519d 0.18844444444444441\nReadnower, Ryan CRITICAL CARE MEDICINE #32519d 0.18844444444444441\nChan, Darby BIOCHEMISTRY & MOLECULAR BIOLOGY #8cd1fa 0.03511111111111111\nSaiyed, Hamzah CHEMISTRY, PHYSICAL #f8bf6f 0.0675\nXiang, Tian-Xiang CHEMISTRY, MULTIDISCIPLINARY #f2b869 0.18075000000000002\nChoi, Du H. CHEMISTRY, MULTIDISCIPLINARY #f2b869 0.18075000000000002\nKangarlou, Sogol CHEMISTRY, MULTIDISCIPLINARY #f2b869 0.18075000000000002\nCsuhai, Eva CHEMISTRY, MULTIDISCIPLINARY #f2b869 0.18075000000000002\nBummer, Paul M. CHEMISTRY, MULTIDISCIPLINARY #f2b869 0.18075000000000002\nWillis, Lauren RESPIRATORY SYSTEM #3657a2 0\nSedlak, David L. CHEMISTRY, MULTIDISCIPLINARY #f2b869 0.049444444444444444\nChin-Chan, Miguel TOXICOLOGY #689dd4 0\nSegovia, Jose TOXICOLOGY #689dd4 0\nQuintanar, Liliana TOXICOLOGY #689dd4 0\nArcos-Lopez, Trinidad TOXICOLOGY #689dd4 0\nQuintanilla-Vega, Betzabet TOXICOLOGY #689dd4 0\nDirk, Lynnette M. A. BIOCHEMISTRY & MOLECULAR BIOLOGY #8cd1fa 0\nBarnes, Jonathan C. BIOCHEMISTRY & MOLECULAR BIOLOGY #8cd1fa 0\nHanger, Katherine M. BIOCHEMISTRY & MOLECULAR BIOLOGY #8cd1fa 0\nNayak, Nihar R. BIOCHEMISTRY & MOLECULAR BIOLOGY #8cd1fa 0\nWilliams, Mark A. BIOCHEMISTRY & MOLECULAR BIOLOGY #8cd1fa 0\nGrossman, Robert B. BIOCHEMISTRY & MOLECULAR BIOLOGY #8cd1fa 0\nHoutz, Robert L. BIOCHEMISTRY & MOLECULAR BIOLOGY #8cd1fa 0\nGupta, Salin CRYSTALLOGRAPHY #d89c53 0\nTowler, Christopher S. MEDICINE, RESEARCH & EXPERIMENTAL #90d7fe 0.08024999999999999\nWikstroem, Hakan MEDICINE, RESEARCH & EXPERIMENTAL #90d7fe 0.08024999999999999\nRemick, David M. MEDICINE, RESEARCH & EXPERIMENTAL #90d7fe 0.08024999999999999\nSanchez-Felix, Manuel V. MEDICINE, RESEARCH & EXPERIMENTAL #90d7fe 0.08024999999999999\nLei, Shi CHEMISTRY, MULTIDISCIPLINARY #f2b869 0.05666666666666666\nRong, Wang CHEMISTRY, MULTIDISCIPLINARY #f2b869 0.05666666666666666\nShin, Ho-Chul MEDICINE, RESEARCH & EXPERIMENTAL #90d7fe 0.08024999999999999\nCho, Hyunah MEDICINE, RESEARCH & EXPERIMENTAL #90d7fe 0.08024999999999999\nKolesar, Jill M. MEDICINE, RESEARCH & EXPERIMENTAL #90d7fe 0.08024999999999999\nOliver, Catherine E. CHEMISTRY, MULTIDISCIPLINARY #f2b869 0\nKnecht, Leslie D. CHEMISTRY, MULTIDISCIPLINARY #f2b869 0.0486875\nAli, Nur CHEMISTRY, MULTIDISCIPLINARY #f2b869 0.0486875\nBrock, Carolyn P. CHEMISTRY, MULTIDISCIPLINARY #f2b869 0.0941111111111111\nZheng, Zengjuan ENGINEERING, BIOMEDICAL #395ba5 0.0325\nSun, Weiqing ENGINEERING, BIOMEDICAL #395ba5 0.0325\nCui, Juanjuan ENGINEERING, BIOMEDICAL #395ba5 0.0325\nFeng, Zhanqin ENGINEERING, BIOMEDICAL #395ba5 0.0325\nFinch, Lenna CRITICAL CARE MEDICINE #32519d 0\nFischer, Jenn CRITICAL CARE MEDICINE #32519d 0\nGallant, Monica CRITICAL CARE MEDICINE #32519d 0\nGoad, Tarah CRITICAL CARE MEDICINE #32519d 0\nSachdev, Gaurav CRITICAL CARE MEDICINE #32519d 0\nHuynh, Toan CRITICAL CARE MEDICINE #32519d 0\nRobertson, Larry W. ENVIRONMENTAL SCIENCES #90f96d 0\nWallace, William T. NANOSCIENCE & NANOTECHNOLOGY #fcc373 0.005500000000000005\nLittleton, John M. NANOSCIENCE & NANOTECHNOLOGY #fcc373 0.005500000000000005\nAcosta, Maria F. PHARMACOLOGY & PHARMACY #7ab8e8 0\nMuralidharan, Priya PHARMACOLOGY & PHARMACY #7ab8e8 0\nBlack, Stephen M. PHARMACOLOGY & PHARMACY #7ab8e8 0\nYakacki, Christopher M. POLYMER SCIENCE #d59950 0\nGall, Ken POLYMER SCIENCE #d59950 0\nLikos, Roxanne POLYMER SCIENCE #d59950 0\nHe, Zhengwang CHEMISTRY, MULTIDISCIPLINARY #f2b869 0.0773611111111111\nXie, Tao CHEMISTRY, MULTIDISCIPLINARY #f2b869 0.0773611111111111\nZeng, Zhiping MULTIDISCIPLINARY SCIENCES #87cbf5 0\nYu, Dingshan MULTIDISCIPLINARY SCIENCES #87cbf5 0\nHe, Ziming MULTIDISCIPLINARY SCIENCES #87cbf5 0\nLiu, Jing MULTIDISCIPLINARY SCIENCES #87cbf5 0\nXiao, Fang-Xing MULTIDISCIPLINARY SCIENCES #87cbf5 0\nZhang, Yan MULTIDISCIPLINARY SCIENCES #87cbf5 0\nWang, Rong MULTIDISCIPLINARY SCIENCES #87cbf5 0\nTan, Timothy Thatt Yang MULTIDISCIPLINARY SCIENCES #87cbf5 0\nPinninti, Raghotham R. CHEMISTRY, MEDICINAL #699fd6 0.1602222222222222\nBains, Mona BIOCHEMISTRY & MOLECULAR BIOLOGY #8cd1fa 0.16875\nCebak, John E. BIOCHEMISTRY & MOLECULAR BIOLOGY #8cd1fa 0.16875\nGilmer, Lesley K. BIOCHEMISTRY & MOLECULAR BIOLOGY #8cd1fa 0.16875\nBarnes, Colleen C. BIOCHEMISTRY & MOLECULAR BIOLOGY #8cd1fa 0.16875\nThompson, Stephanie N. BIOCHEMISTRY & MOLECULAR BIOLOGY #8cd1fa 0.16875\nHall, Edward D. BIOCHEMISTRY & MOLECULAR BIOLOGY #8cd1fa 0.16875\nHuang, Heqing POLYMER SCIENCE #d59950 0\nPenn, Lynn S. POLYMER SCIENCE #d59950 0\nLadipo, Folami T. CHEMISTRY, MULTIDISCIPLINARY #f2b869 0\nGupta, Neeraj CHEMISTRY, MULTIDISCIPLINARY #f2b869 0\nSaangonyo, Daudi CHEMISTRY, MULTIDISCIPLINARY #f2b869 0\nSmith, Brianna CHEMISTRY, MULTIDISCIPLINARY #f2b869 0\nModekrutti, Subrahmanyam CHEMISTRY, MULTIDISCIPLINARY #f2b869 0\nZadrozny, Kaneil K. BIOLOGY #8fd5fd 0\nChrustowicz, Jakub BIOLOGY #8fd5fd 0\nPurdy, Michael D. BIOLOGY #8fd5fd 0\nYeager, Mark BIOLOGY #8fd5fd 0\nKorotkova, Natalia BIOCHEMISTRY & MOLECULAR BIOLOGY #8cd1fa 0.024999999999999994\nPiton, Jeremie BIOCHEMISTRY & MOLECULAR BIOLOGY #8cd1fa 0.024999999999999994\nBoy-Roettger, Stefanie BIOCHEMISTRY & MOLECULAR BIOLOGY #8cd1fa 0.024999999999999994\nJaparidze, Aleksandre BIOCHEMISTRY & MOLECULAR BIOLOGY #8cd1fa 0.024999999999999994\nCole, Stewart T. BIOCHEMISTRY & MOLECULAR BIOLOGY #8cd1fa 0.024999999999999994\nPojer, Florence BIOCHEMISTRY & MOLECULAR BIOLOGY #8cd1fa 0.024999999999999994\nGuilfoil, Emma C. CHEMISTRY, MULTIDISCIPLINARY #f2b869 0.05411111111111111\nShapiro, Jenna M. ENGINEERING, BIOMEDICAL #395ba5 0.1593333333333333\nPorta, J. CHEMISTRY, MULTIDISCIPLINARY #f2b869 0\nGrove, L. E. CHEMISTRY, MULTIDISCIPLINARY #f2b869 0\nBronshteyn, Y. CHEMISTRY, MULTIDISCIPLINARY #f2b869 0\nXie, J. CHEMISTRY, MULTIDISCIPLINARY #f2b869 0\nVahedi-Faridi, A. CHEMISTRY, MULTIDISCIPLINARY #f2b869 0\nBrunold, T. C. CHEMISTRY, MULTIDISCIPLINARY #f2b869 0\nBorgstahl, G. E. CHEMISTRY, MULTIDISCIPLINARY #f2b869 0\nSharma, Sadhana PHARMACOLOGY & PHARMACY #7ab8e8 0\nBillet, Beau PHARMACOLOGY & PHARMACY #7ab8e8 0\nZhao, Ji-Cheng PHARMACOLOGY & PHARMACY #7ab8e8 0\nZhang, Yangde PHARMACOLOGY & PHARMACY #7ab8e8 0\nDeng, Xingming PHARMACOLOGY & PHARMACY #7ab8e8 0\nChen, Yuxiang PHARMACOLOGY & PHARMACY #7ab8e8 0\nWang, Jiwei PHARMACOLOGY & PHARMACY #7ab8e8 0\nPan, Yifeng PHARMACOLOGY & PHARMACY #7ab8e8 0\nZhao, Jinfeng PHARMACOLOGY & PHARMACY #7ab8e8 0\nWooten, M. Kaitlyn Clark NANOSCIENCE & NANOTECHNOLOGY #fcc373 0.005500000000000005\nYu, Xin Xin CRITICAL CARE MEDICINE #32519d 0.18844444444444441\nYoshida, Takayuki CHEMISTRY, MULTIDISCIPLINARY #f2b869 0.18075000000000002\nMathias, Ronita MATERIALS SCIENCE, MULTIDISCIPLINARY #ffc675 0\nMeyer, Carolyn A. CRITICAL CARE MEDICINE #32519d 0.236375\nDaley, Emily F. ENGINEERING, BIOMEDICAL #395ba5 0.0325\nMai, Trang CHEMISTRY, MULTIDISCIPLINARY #f2b869 0.049444444444444444\nAkter, Shanjida CHEMISTRY, MULTIDISCIPLINARY #f2b869 0.18075000000000002\nClem, Brian F. CHEMISTRY, MULTIDISCIPLINARY #f2b869 0.18075000000000002\nChesney, Jason CHEMISTRY, MULTIDISCIPLINARY #f2b869 0.18075000000000002\nCieply, Ryan D. CELL & TISSUE ENGINEERING #83c4f1 0.1776875\nGupta, Gautam CELL & TISSUE ENGINEERING #83c4f1 0.1776875\nGotmare, Sunil W. MATERIALS SCIENCE, CERAMICS #e7ac60 0\nKryscio, David R. PHARMACOLOGY & PHARMACY #7ab8e8 0\nSathe, Pradeep M. PHARMACOLOGY & PHARMACY #7ab8e8 0\nLionberger, Robert PHARMACOLOGY & PHARMACY #7ab8e8 0\nYu, Lawrence PHARMACOLOGY & PHARMACY #7ab8e8 0\nBell, Michael A. PHARMACOLOGY & PHARMACY #7ab8e8 0\nWhittington, Jennifer SURGERY #0d1b77 0\nAnderson, A. Ashley ENGINEERING, BIOMEDICAL #395ba5 0.0325\nSuthar, Mehul ENGINEERING, BIOMEDICAL #395ba5 0.0325\nXu, Ling PHARMACOLOGY & PHARMACY #7ab8e8 0\nQjogun, Vivian A. PHARMACOLOGY & PHARMACY #7ab8e8 0\nLudewig, Gabriele PHARMACOLOGY & PHARMACY #7ab8e8 0\nBrewer, M. Kathryn BIOCHEMISTRY & MOLECULAR BIOLOGY #8cd1fa 0\nGraham, Brantley BIOCHEMISTRY & MOLECULAR BIOLOGY #8cd1fa 0\nPittman, Thomas A. CHEMISTRY, MULTIDISCIPLINARY #f2b869 0.18075000000000002\nKnotigova, Pavlina CHEMISTRY, MULTIDISCIPLINARY #f2b869 0\nPennington, D. Brant CHEMISTRY, MULTIDISCIPLINARY #f2b869 0\nChen, Jhong-Min BIOCHEMISTRY & MOLECULAR BIOLOGY #8cd1fa 0.092\nZhang, Jianjun CHEMISTRY, MULTIDISCIPLINARY #f2b869 0.0486875\nSingh, Shanteri CHEMISTRY, MULTIDISCIPLINARY #f2b869 0.0486875\nPeltier-Pain, Pauline CHEMISTRY, MULTIDISCIPLINARY #f2b869 0.0486875\nThorson, Jon S. CHEMISTRY, MULTIDISCIPLINARY #f2b869 0.0486875\nJones, Cory A. CHEMISTRY, PHYSICAL #f8bf6f 0\nArmbruster, Marie E. CHEMISTRY, PHYSICAL #f8bf6f 0\nRushing, Elliott S. CHEMISTRY, PHYSICAL #f8bf6f 0\nWooten, Kaitlyn C. CHEMISTRY, PHYSICAL #f8bf6f 0\nMengesha, Abebe E. CHEMISTRY, MULTIDISCIPLINARY #f2b869 0.18075000000000002\nCahall, Calvin F. ONCOLOGY #5887c4 0\nHirschowitz, Edward A. ONCOLOGY #5887c4 0\nOtu, Chinedu G. PHARMACOLOGY & PHARMACY #7ab8e8 0\nFrasinyuk, Mykhaylo S. CHEMISTRY, MEDICINAL #699fd6 0.26575\nIzumi, Tadahide PHARMACOLOGY & PHARMACY #7ab8e8 0.19822222222222222\nYang, Hsin-Sheng PHARMACOLOGY & PHARMACY #7ab8e8 0\nMiriyala, Sumitra PHARMACOLOGY & PHARMACY #7ab8e8 0\nLacerda, Caroline POLYMER SCIENCE #d59950 0\nAlferiev, Ivan S. MEDICINE, RESEARCH & EXPERIMENTAL #90d7fe 0.08024999999999999\nChorny, Michael MEDICINE, RESEARCH & EXPERIMENTAL #90d7fe 0.08024999999999999\nGuerrieri, Peter PHARMACOLOGY & PHARMACY #7ab8e8 0\nRumondor, Alfred C. F. PHARMACOLOGY & PHARMACY #7ab8e8 0\nLinck, Nicholas NANOSCIENCE & NANOTECHNOLOGY #fcc373 0.005500000000000005\nPeek, Alex NANOSCIENCE & NANOTECHNOLOGY #fcc373 0.005500000000000005\nAbraham, Nathan S. NANOSCIENCE & NANOTECHNOLOGY #fcc373 0.005500000000000005\nDiezi, Thomas A. MEDICINE, RESEARCH & EXPERIMENTAL #90d7fe 0.08024999999999999\nAbney, Morgan B. BIOCHEMICAL RESEARCH METHODS #6ca3d9 0.21781250000000002\nCameron, Caroline E. BIOCHEMICAL RESEARCH METHODS #6ca3d9 0.21781250000000002\nKnecht, Marc BIOCHEMICAL RESEARCH METHODS #6ca3d9 0.21781250000000002\nFowler, Craig B. ENGINEERING, BIOMEDICAL #395ba5 0.0325\nMcPherson, Timothy PHARMACOLOGY & PHARMACY #7ab8e8 0\nManek, Rahul V. PHARMACOLOGY & PHARMACY #7ab8e8 0\nKolling, William PHARMACOLOGY & PHARMACY #7ab8e8 0\nPalomino, Pablo ENGINEERING, BIOMEDICAL #395ba5 0.1593333333333333\nHines, Christina S. BIOCHEMISTRY & MOLECULAR BIOLOGY #8cd1fa 0\nXiong, Fei BIOCHEMISTRY & MOLECULAR BIOLOGY #8cd1fa 0\nFeenstra, Rolf W. BIOCHEMISTRY & MOLECULAR BIOLOGY #8cd1fa 0\nPras-Raves, Mia BIOCHEMISTRY & MOLECULAR BIOLOGY #8cd1fa 0\nde Moes, Jan Peter BIOCHEMISTRY & MOLECULAR BIOLOGY #8cd1fa 0\nLange, Jos H. M. BIOCHEMISTRY & MOLECULAR BIOLOGY #8cd1fa 0\nMortenson, Paul BIOCHEMISTRY & MOLECULAR BIOLOGY #8cd1fa 0\nCharlton, Michael BIOCHEMISTRY & MOLECULAR BIOLOGY #8cd1fa 0\nPatel, Yogendra BIOCHEMISTRY & MOLECULAR BIOLOGY #8cd1fa 0\nCourtney, Stephen M. BIOCHEMISTRY & MOLECULAR BIOLOGY #8cd1fa 0\nKruse, Chris G. BIOCHEMISTRY & MOLECULAR BIOLOGY #8cd1fa 0\nCoker, Eric L. MULTIDISCIPLINARY SCIENCES #87cbf5 0\nHuggins, Frank E. MULTIDISCIPLINARY SCIENCES #87cbf5 0\nJones, Mackenzie T. MULTIDISCIPLINARY SCIENCES #87cbf5 0\nTang, Weiwei CHEMISTRY, PHYSICAL #f8bf6f 0\nMo, Huaping CHEMISTRY, PHYSICAL #f8bf6f 0\nGong, Junbo CHEMISTRY, PHYSICAL #f8bf6f 0\nWang, Jingkang CHEMISTRY, PHYSICAL #f8bf6f 0\nVan Stelle, Rachel ENGINEERING, BIOMEDICAL #395ba5 0.0325\nWilf, Ilan ENGINEERING, CHEMICAL #cf924a 0.13324999999999998\nJackson, Karen S. BIOCHEMISTRY & MOLECULAR BIOLOGY #8cd1fa 0\nYeom, Jihyun BIOCHEMISTRY & MOLECULAR BIOLOGY #8cd1fa 0\nHan, Youngmi BIOCHEMISTRY & MOLECULAR BIOLOGY #8cd1fa 0\nReed, Robert W. CHEMISTRY, MEDICINAL #699fd6 0.10125\nJohnson, Don POLYMER SCIENCE #d59950 0\nMarrs, Brock POLYMER SCIENCE #d59950 0\nPoh, Churn POLYMER SCIENCE #d59950 0\nGharaibeh, Belal POLYMER SCIENCE #d59950 0\nSaito, Kozo POLYMER SCIENCE #d59950 0\nWanninayake, Namal CHEMISTRY, PHYSICAL #f8bf6f 0.02433333333333333\nAkbari, Abozar MULTIDISCIPLINARY SCIENCES #87cbf5 0\nSheath, Phillip MULTIDISCIPLINARY SCIENCES #87cbf5 0\nMartin, Samuel T. MULTIDISCIPLINARY SCIENCES #87cbf5 0\nShinde, Dhanraj B. MULTIDISCIPLINARY SCIENCES #87cbf5 0\nShaibani, Mahdokht MULTIDISCIPLINARY SCIENCES #87cbf5 0\nBanerjee, Parama Chakraborty MULTIDISCIPLINARY SCIENCES #87cbf5 0\nTkacz, Rachel MULTIDISCIPLINARY SCIENCES #87cbf5 0\n"
     ]
    }
   ],
   "source": [
    "#check that everything is okay before we plot\n",
    "\n",
    "for node in G.nodes():\n",
    "    print (node, G.nodes[node]['Discipline'],G.nodes[node]['DisColor'],\n",
    "           G.nodes[node]['Rao-Stirling'])\n"
   ]
  },
  {
   "cell_type": "code",
   "execution_count": 27,
   "metadata": {},
   "outputs": [
    {
     "data": {
      "text/plain": [
       "'file://C:\\\\Users\\\\Michael\\\\PycharmProjects\\\\DataIncubator\\\\demo\\\\bioactive RSEdges_Disciplines.html'"
      ]
     },
     "execution_count": 31,
     "metadata": {},
     "output_type": "execute_result"
    }
   ],
   "source": [
    "path =  'bioactive'\n",
    "\n",
    "def tooltiptext(node):\n",
    "    text = str( '<b>' +node +'</b><br>' +\n",
    "         G.nodes[node]['Discipline'] + '<br>' +\n",
    "         'Papers: ' + str(G.nodes[node]['Papers']) + '<br>' +\n",
    "         'Rao-Stirling: ' + str(round(G.nodes[node]['Rao-Stirling'],4)) + '<br>'\n",
    "         )\n",
    "    return text\n",
    "\n",
    "#this bit of code changes papers to whatever nmodesize we want\n",
    "node_size2 = list(nx.get_node_attributes(G,'Papers').values())\n",
    "node_size = []\n",
    "for i in node_size2 :\n",
    "    k = float(i)\n",
    "    node_size.append(math.sqrt(k)*3)\n",
    "\n",
    "#we're going to place the mark at std, and show 3 categories.\n",
    "#lineweight 1\n",
    "#lineweight 1-mark\n",
    "#lineweight higher\n",
    "weights = list(nx.get_edge_attributes(G, 'Weight').values())\n",
    "a=[x for x in weights if x != 1]\n",
    "mark = np.percentile(a, 90)\n",
    "\n",
    "for edge in G.edges() :\n",
    "    if G.edges()[edge]['Weight'] == 1 :\n",
    "        G.edges()[edge]['weightCat'] = 1\n",
    "    elif 1 < G.edges()[edge]['Weight'] < mark :\n",
    "        G.edges()[edge]['weightCat'] = 2\n",
    "    else :\n",
    "        G.edges()[edge]['weightCat'] = 3\n",
    "\n",
    "#this version draws our graph from the data. Now to get the formatting right...\n",
    "pos=nx.spring_layout(G, weight='weight',iterations=250)\n",
    "\n",
    "xs=[]\n",
    "ys=[]\n",
    "\n",
    "for item in pos:\n",
    "    xs.append(pos[item][0])\n",
    "    ys.append(pos[item][1])\n",
    "\n",
    "ylim = 2*stat.stdev(ys)\n",
    "xlim = 2*stat.stdev(xs)\n",
    "\n",
    "for item in pos :\n",
    "    if pos[item][0]>xlim :\n",
    "        pos[item][0] = xlim\n",
    "    if pos[item][0] < -xlim :\n",
    "        pos[item][0] = -xlim\n",
    "    if pos[item][1] > ylim :\n",
    "        pos[item][1] = ylim\n",
    "    if pos[item][1] < -ylim :\n",
    "        pos[item][1] = -ylim\n",
    "\n",
    "for node in G :\n",
    "    G.nodes[node]['pos']=pos[node]\n",
    "    \n",
    "dmin=1\n",
    "ncenter=0\n",
    "for n in pos:\n",
    "    x,y=pos[n]\n",
    "    d=(x-0.5)**2+(y-0.5)**2\n",
    "    if d<dmin:\n",
    "        ncenter=n\n",
    "        dmin=d\n",
    "\n",
    "print('tooltip created')"
   ]
  },
  {
   "cell_type": "code",
   "execution_count": 31,
   "metadata": {},
   "outputs": [
    {
     "data": {
      "text/plain": [
       "'file://C:\\\\Users\\\\Michael\\\\PycharmProjects\\\\DataIncubator\\\\demo\\\\bioactive RSEdges_Disciplines.html'"
      ]
     },
     "execution_count": 31,
     "metadata": {},
     "output_type": "execute_result"
    }
   ],
   "source": [
    "#figure 1, Disciplinary\n",
    "\n",
    "edge_traces = []\n",
    "\n",
    "cm = matplotlib.cm.get_cmap(name='magma')\n",
    "for edge in G.edges():\n",
    "    width =.75\n",
    "    color = rgb2hex(cm(G.edges[edge]['Rao-Stirling-Connection']))\n",
    "\n",
    "    edge_trace = Scatter(\n",
    "        x=[],\n",
    "        y=[],\n",
    "        text=[],\n",
    "        line=dict(width=width, color=str(color)),\n",
    "        hoverinfo='text',\n",
    "        mode='lines')\n",
    "\n",
    "    x0, y0 = G.node[edge[0]]['pos']\n",
    "    x1, y1 = G.node[edge[1]]['pos']\n",
    "    edge_trace['x'] += [x0, x1, None]\n",
    "    edge_trace['y'] += [y0, y1, None]\n",
    "\n",
    "    edge_traces = edge_traces + [edge_trace]\n",
    "\n",
    "node_trace = Scatter(\n",
    "    x=[],\n",
    "    y=[],\n",
    "    text=[],\n",
    "    mode='markers',\n",
    "    hoverinfo='text',\n",
    "    marker=Marker(\n",
    "        color=list(nx.get_node_attributes(G,'DisColor').values()),\n",
    "        opacity=1,\n",
    "        size= node_size,\n",
    "        line= dict(width=list(nx.get_node_attributes(G,'Sample').values()),color='#000')\n",
    "    )\n",
    ")\n",
    "\n",
    "for node in G.nodes():\n",
    "    x, y = G.node[node]['pos']\n",
    "    node_trace['x'].append(x)\n",
    "    node_trace['y'].append(y)\n",
    "\n",
    "for node in G :\n",
    "    node_info = tooltiptext(node)\n",
    "    node_trace['text'].append(node_info)\n",
    "\n",
    "fig = Figure(data=Data(edge_traces + [node_trace]),\n",
    "             layout=Layout(\n",
    "                title=str(path + ' Rao-Stirling Edge Network'),\n",
    "                titlefont=dict(size=16),\n",
    "                showlegend=False,\n",
    "                hovermode='closest',\n",
    "                margin=dict(b=20,l=5,r=5,t=40),\n",
    "                annotations=[ dict(\n",
    "                    showarrow=False,\n",
    "                    xref=\"paper\", yref=\"paper\",\n",
    "                    x=0.005, y=-0.002 ) ],\n",
    "                xaxis=XAxis(showgrid=False, zeroline=False, showticklabels=False),\n",
    "                yaxis=YAxis(showgrid=False, zeroline=False, showticklabels=False)))\n",
    "\n",
    "py.offline.plot(fig, filename=str(path + ' RSEdges_Disciplines.html'), image_height=1000, image_width=1000)\n",
    "#py.plotly.plot(fig, filename=str(path + ' CompleteDisciplines.html'), image_height=1000, image_width=1000)\n"
   ]
  },
  {
   "cell_type": "code",
   "execution_count": null,
   "metadata": {},
   "outputs": [
    {
     "data": {
      "text/plain": [
       "'file://C:\\\\Users\\\\Michael\\\\PycharmProjects\\\\DataIncubator\\\\demo\\\\bioactive RSEdges_Disciplines.html'"
      ]
     },
     "execution_count": 31,
     "metadata": {},
     "output_type": "execute_result"
    }
   ],
   "source": [
    "#figure2 Rao-Stirling\n",
    "\n",
    "node_trace = Scatter(\n",
    "    x=[],\n",
    "    y=[],\n",
    "    text=[],\n",
    "    mode='markers',\n",
    "    hoverinfo='text',\n",
    "    marker=Marker(\n",
    "        showscale=True,\n",
    "        # colorscale options\n",
    "        # 'Greys' | 'Greens' | 'Bluered' | 'Hot' | 'Picnic' | 'Portland' |\n",
    "        # Jet' | 'RdBu' | 'Blackbody' | 'Earth' | 'Electric' | 'YIOrRd' | 'YIGnBu'\n",
    "        colorscale='YlOrRd',\n",
    "        reversescale=True,\n",
    "        color=[],\n",
    "        size=node_size,\n",
    "        opacity =1,\n",
    "        colorbar=dict(\n",
    "            thickness=15,\n",
    "            title='Rao-Sterling Diversity',\n",
    "            xanchor='left',\n",
    "            titleside='right'\n",
    "        ),\n",
    "        line=dict(width=list(nx.get_node_attributes(G,'Sample').values()),color='#000')\n",
    "    ))\n",
    "\n",
    "for node in G.nodes():\n",
    "    x, y = G.node[node]['pos']\n",
    "    node_trace['x'].append(x)\n",
    "    node_trace['y'].append(y)\n",
    "\n",
    "for node in G :\n",
    "    node_trace['marker']['color'].append(G.nodes()[node]['Rao-Stirling'])\n",
    "    node_info = tooltiptext(node)\n",
    "    node_trace['text'].append(node_info)\n",
    "\n",
    "fig2 = Figure(data=Data(edge_traces + [node_trace]),\n",
    "             layout=Layout(\n",
    "                title=str(path + ' Complete Rao-Sterling Network'),\n",
    "                titlefont=dict(size=16),\n",
    "                showlegend=False,\n",
    "                hovermode='closest',\n",
    "                margin=dict(b=20,l=5,r=5,t=40),\n",
    "                annotations=[ dict(\n",
    "                    showarrow=False,\n",
    "                    xref=\"paper\", yref=\"paper\",\n",
    "                    x=0.005, y=-0.002 ) ],\n",
    "                xaxis=XAxis(showgrid=False, zeroline=False, showticklabels=False),\n",
    "                yaxis=YAxis(showgrid=False, zeroline=False, showticklabels=False)))\n",
    "\n",
    "py.offline.plot(fig2, filename=str(path + ' CompleteRS.html'), image_height=1000, image_width=1000)"
   ]
  },
  {
   "cell_type": "code",
   "execution_count": null,
   "metadata": {},
   "outputs": [],
   "source": []
  }
 ],
 "metadata": {
  "kernelspec": {
   "display_name": "Python 2",
   "language": "python",
   "name": "python2"
  },
  "language_info": {
   "codemirror_mode": {
    "name": "ipython",
    "version": 2
   },
   "file_extension": ".py",
   "mimetype": "text/x-python",
   "name": "python",
   "nbconvert_exporter": "python",
   "pygments_lexer": "ipython2",
   "version": "2.7.6"
  }
 },
 "nbformat": 4,
 "nbformat_minor": 0
}
